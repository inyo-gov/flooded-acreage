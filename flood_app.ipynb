{
 "cells": [
  {
   "cell_type": "markdown",
   "metadata": {},
   "source": [
    "Import necessary libraries\n",
    "authenticate using gcloud api enabled on gcloud project"
   ]
  },
  {
   "cell_type": "code",
   "execution_count": 307,
   "metadata": {},
   "outputs": [
    {
     "data": {
      "text/html": [
       "\n",
       "            <style>\n",
       "                .geemap-dark {\n",
       "                    --jp-widgets-color: white;\n",
       "                    --jp-widgets-label-color: white;\n",
       "                    --jp-ui-font-color1: white;\n",
       "                    --jp-layout-color2: #454545;\n",
       "                    background-color: #383838;\n",
       "                }\n",
       "\n",
       "                .geemap-dark .jupyter-button {\n",
       "                    --jp-layout-color3: #383838;\n",
       "                }\n",
       "\n",
       "                .geemap-colab {\n",
       "                    background-color: var(--colab-primary-surface-color, white);\n",
       "                }\n",
       "\n",
       "                .geemap-colab .jupyter-button {\n",
       "                    --jp-layout-color3: var(--colab-primary-surface-color, white);\n",
       "                }\n",
       "            </style>\n",
       "            "
      ],
      "text/plain": [
       "<IPython.core.display.HTML object>"
      ]
     },
     "metadata": {},
     "output_type": "display_data"
    }
   ],
   "source": [
    "# 1 import libraries\n",
    "import ee\n",
    "import geopandas as gpd\n",
    "import geemap\n",
    "import pandas as pd\n",
    "import folium\n",
    "import geemap.foliumap as geemap\n",
    "from datetime import datetime, timedelta\n",
    "import os\n"
   ]
  },
  {
   "cell_type": "markdown",
   "metadata": {},
   "source": [
    "Trigger authentication"
   ]
  },
  {
   "cell_type": "code",
   "execution_count": null,
   "metadata": {},
   "outputs": [],
   "source": [
    "\n",
    "# run this in terminal to authenticate with gcloud >> earthengine authenticate"
   ]
  },
  {
   "cell_type": "markdown",
   "metadata": {},
   "source": [
    "Initialize Earth Engine"
   ]
  },
  {
   "cell_type": "code",
   "execution_count": null,
   "metadata": {},
   "outputs": [],
   "source": [
    "\n",
    "\n",
    "ee.Initialize()"
   ]
  },
  {
   "cell_type": "markdown",
   "metadata": {},
   "source": [
    "# Parameters\n",
    "surface reflectance threshold\n",
    "start date\n",
    "the end date is currently start date + 15 days and the first clear scene, low cloud cover will be selected and the image date is used in the reporting and filenaming convention along with the SR threshold value."
   ]
  },
  {
   "cell_type": "markdown",
   "metadata": {},
   "source": [
    "Spring 2023"
   ]
  },
  {
   "cell_type": "code",
   "execution_count": 308,
   "metadata": {},
   "outputs": [
    {
     "data": {
      "text/html": [
       "\n",
       "            <style>\n",
       "                .geemap-dark {\n",
       "                    --jp-widgets-color: white;\n",
       "                    --jp-widgets-label-color: white;\n",
       "                    --jp-ui-font-color1: white;\n",
       "                    --jp-layout-color2: #454545;\n",
       "                    background-color: #383838;\n",
       "                }\n",
       "\n",
       "                .geemap-dark .jupyter-button {\n",
       "                    --jp-layout-color3: #383838;\n",
       "                }\n",
       "\n",
       "                .geemap-colab {\n",
       "                    background-color: var(--colab-primary-surface-color, white);\n",
       "                }\n",
       "\n",
       "                .geemap-colab .jupyter-button {\n",
       "                    --jp-layout-color3: var(--colab-primary-surface-color, white);\n",
       "                }\n",
       "            </style>\n",
       "            "
      ],
      "text/plain": [
       "<IPython.core.display.HTML object>"
      ]
     },
     "metadata": {},
     "output_type": "display_data"
    }
   ],
   "source": [
    "#---Mar 2023---730 ac***\n",
    "# threshold = .15\n",
    "# start_date = '2023-02-15'\n",
    "\n",
    "#---Mar 2023---1604 ac\n",
    "# threshold = .20\n",
    "# start_date = '2023-02-15'\n",
    "\n",
    "#---May 2023---300 ac\n",
    "# threshold = .15\n",
    "# start_date = '2023-05-01'\n",
    "\n",
    "#---May 2023---449 ac\n",
    "# threshold = .20\n",
    "# start_date = '2023-05-01'\n"
   ]
  },
  {
   "cell_type": "markdown",
   "metadata": {},
   "source": [
    "Fall 2023"
   ]
  },
  {
   "cell_type": "code",
   "execution_count": 309,
   "metadata": {},
   "outputs": [
    {
     "data": {
      "text/html": [
       "\n",
       "            <style>\n",
       "                .geemap-dark {\n",
       "                    --jp-widgets-color: white;\n",
       "                    --jp-widgets-label-color: white;\n",
       "                    --jp-ui-font-color1: white;\n",
       "                    --jp-layout-color2: #454545;\n",
       "                    background-color: #383838;\n",
       "                }\n",
       "\n",
       "                .geemap-dark .jupyter-button {\n",
       "                    --jp-layout-color3: #383838;\n",
       "                }\n",
       "\n",
       "                .geemap-colab {\n",
       "                    background-color: var(--colab-primary-surface-color, white);\n",
       "                }\n",
       "\n",
       "                .geemap-colab .jupyter-button {\n",
       "                    --jp-layout-color3: var(--colab-primary-surface-color, white);\n",
       "                }\n",
       "            </style>\n",
       "            "
      ],
      "text/plain": [
       "<IPython.core.display.HTML object>"
      ]
     },
     "metadata": {},
     "output_type": "display_data"
    }
   ],
   "source": [
    "\n",
    "#---Oct 2023---1175 ac\n",
    "# threshold = .22\n",
    "# start_date = '2023-10-03'\n",
    "\n",
    "#---Nov 2023---618 ac\n",
    "# threshold = .16\n",
    "# start_date = '2023-11-03'\n",
    "\n",
    "#---Nov 2023---760 ac\n",
    "# threshold = .18\n",
    "# start_date = '2023-11-03'\n",
    "\n",
    "#---Nov 2023---987 ac\n",
    "# threshold = .20\n",
    "# start_date = '2023-11-03'\n",
    "\n",
    "#---Nov 2023--- 1125 ac\n",
    "# threshold = .21\n",
    "# start_date = '2023-11-03'\n",
    "\n",
    "#---Nov 2023---1325 ac***\n",
    "# threshold = .22\n",
    "# start_date = '2023-11-03'\n",
    "\n",
    "\n"
   ]
  },
  {
   "cell_type": "markdown",
   "metadata": {},
   "source": [
    "Spring 2024"
   ]
  },
  {
   "cell_type": "code",
   "execution_count": 310,
   "metadata": {},
   "outputs": [
    {
     "data": {
      "text/html": [
       "\n",
       "            <style>\n",
       "                .geemap-dark {\n",
       "                    --jp-widgets-color: white;\n",
       "                    --jp-widgets-label-color: white;\n",
       "                    --jp-ui-font-color1: white;\n",
       "                    --jp-layout-color2: #454545;\n",
       "                    background-color: #383838;\n",
       "                }\n",
       "\n",
       "                .geemap-dark .jupyter-button {\n",
       "                    --jp-layout-color3: #383838;\n",
       "                }\n",
       "\n",
       "                .geemap-colab {\n",
       "                    background-color: var(--colab-primary-surface-color, white);\n",
       "                }\n",
       "\n",
       "                .geemap-colab .jupyter-button {\n",
       "                    --jp-layout-color3: var(--colab-primary-surface-color, white);\n",
       "                }\n",
       "            </style>\n",
       "            "
      ],
      "text/plain": [
       "<IPython.core.display.HTML object>"
      ]
     },
     "metadata": {},
     "output_type": "display_data"
    }
   ],
   "source": [
    "\n",
    "#---Mar 2024---1130 acres***\n",
    "# threshold = .15\n",
    "# start_date = '2024-02-25'\n",
    "\n",
    "#---Mar 2024---1355 acres***\n",
    "# threshold = .16\n",
    "# start_date = '2024-02-25'\n",
    "\n",
    "#---May 2024---\n",
    "# start_date = '2024-05-10'\n",
    "# threshold = .22\n",
    "\n",
    "#---Jun 2024---92 ac\n",
    "# start_date = '2024-06-01'\n",
    "# threshold = .15\n",
    "\n",
    "#---Jun 2024---109 ac\n",
    "# start_date = '2024-06-01'\n",
    "# threshold = .16\n",
    "\n",
    "#---Jun 2024---109 ac\n",
    "start_date = '2024-06-06'\n",
    "threshold = .16\n"
   ]
  },
  {
   "cell_type": "markdown",
   "metadata": {},
   "source": [
    "Compute the end date by adding days to the start date"
   ]
  },
  {
   "cell_type": "code",
   "execution_count": 311,
   "metadata": {},
   "outputs": [
    {
     "data": {
      "text/html": [
       "\n",
       "            <style>\n",
       "                .geemap-dark {\n",
       "                    --jp-widgets-color: white;\n",
       "                    --jp-widgets-label-color: white;\n",
       "                    --jp-ui-font-color1: white;\n",
       "                    --jp-layout-color2: #454545;\n",
       "                    background-color: #383838;\n",
       "                }\n",
       "\n",
       "                .geemap-dark .jupyter-button {\n",
       "                    --jp-layout-color3: #383838;\n",
       "                }\n",
       "\n",
       "                .geemap-colab {\n",
       "                    background-color: var(--colab-primary-surface-color, white);\n",
       "                }\n",
       "\n",
       "                .geemap-colab .jupyter-button {\n",
       "                    --jp-layout-color3: var(--colab-primary-surface-color, white);\n",
       "                }\n",
       "            </style>\n",
       "            "
      ],
      "text/plain": [
       "<IPython.core.display.HTML object>"
      ]
     },
     "metadata": {},
     "output_type": "display_data"
    }
   ],
   "source": [
    "\n",
    "\n",
    "end_date = (datetime.strptime(start_date, '%Y-%m-%d') + timedelta(days=15)).strftime('%Y-%m-%d')\n"
   ]
  },
  {
   "cell_type": "markdown",
   "metadata": {},
   "source": [
    "Report Directory"
   ]
  },
  {
   "cell_type": "code",
   "execution_count": null,
   "metadata": {},
   "outputs": [],
   "source": [
    "\n",
    "# directory location for reports\n",
    "subdirectory = \"flood_reports\"\n",
    "os.makedirs(subdirectory, exist_ok=True)\n",
    "\n"
   ]
  },
  {
   "cell_type": "markdown",
   "metadata": {},
   "source": [
    "Define the bounding box coordinates and create a bounding box geometry"
   ]
  },
  {
   "cell_type": "code",
   "execution_count": 312,
   "metadata": {},
   "outputs": [
    {
     "data": {
      "text/html": [
       "\n",
       "            <style>\n",
       "                .geemap-dark {\n",
       "                    --jp-widgets-color: white;\n",
       "                    --jp-widgets-label-color: white;\n",
       "                    --jp-ui-font-color1: white;\n",
       "                    --jp-layout-color2: #454545;\n",
       "                    background-color: #383838;\n",
       "                }\n",
       "\n",
       "                .geemap-dark .jupyter-button {\n",
       "                    --jp-layout-color3: #383838;\n",
       "                }\n",
       "\n",
       "                .geemap-colab {\n",
       "                    background-color: var(--colab-primary-surface-color, white);\n",
       "                }\n",
       "\n",
       "                .geemap-colab .jupyter-button {\n",
       "                    --jp-layout-color3: var(--colab-primary-surface-color, white);\n",
       "                }\n",
       "            </style>\n",
       "            "
      ],
      "text/plain": [
       "<IPython.core.display.HTML object>"
      ]
     },
     "metadata": {},
     "output_type": "display_data"
    }
   ],
   "source": [
    "# Define the bounding box coordinates\n",
    "\n",
    "bbox = [[-118.23240736400778, 36.84651455123723],\n",
    "        [-118.17232588207419, 36.84651455123723],\n",
    "        [-118.17232588207419, 36.924364295139625],\n",
    "        [-118.23240736400778, 36.924364295139625]]\n",
    "\n",
    "# Create a bounding box geometry\n",
    "bounding_box_geometry = ee.Geometry.Polygon(bbox)\n"
   ]
  },
  {
   "cell_type": "markdown",
   "metadata": {},
   "source": [
    "Filter sentinel 2 surface reflectance imagery and extract dates, pixel size"
   ]
  },
  {
   "cell_type": "code",
   "execution_count": 313,
   "metadata": {},
   "outputs": [
    {
     "data": {
      "text/html": [
       "\n",
       "            <style>\n",
       "                .geemap-dark {\n",
       "                    --jp-widgets-color: white;\n",
       "                    --jp-widgets-label-color: white;\n",
       "                    --jp-ui-font-color1: white;\n",
       "                    --jp-layout-color2: #454545;\n",
       "                    background-color: #383838;\n",
       "                }\n",
       "\n",
       "                .geemap-dark .jupyter-button {\n",
       "                    --jp-layout-color3: #383838;\n",
       "                }\n",
       "\n",
       "                .geemap-colab {\n",
       "                    background-color: var(--colab-primary-surface-color, white);\n",
       "                }\n",
       "\n",
       "                .geemap-colab .jupyter-button {\n",
       "                    --jp-layout-color3: var(--colab-primary-surface-color, white);\n",
       "                }\n",
       "            </style>\n",
       "            "
      ],
      "text/plain": [
       "<IPython.core.display.HTML object>"
      ]
     },
     "metadata": {},
     "output_type": "display_data"
    }
   ],
   "source": [
    "# COPERNICUS/S2_SR_HARMONIZED, allows comparisons between dates compared to S2_SR\n",
    "sentinel_collection = ee.ImageCollection('COPERNICUS/S2_SR_HARMONIZED') \\\n",
    "    .filterBounds(bounding_box_geometry) \\\n",
    "    .filterDate(start_date, end_date) \\\n",
    "    .filter(ee.Filter.lt('CLOUDY_PIXEL_PERCENTAGE', 30)) \\\n",
    "    .select(['B8', 'SCL'])  # Select NIR band (B8) and Scene Classification Layer (SCL) for masking clouds\n",
    "\n",
    "# Select a single band before retrieving the projection information\n",
    "pixel_size = sentinel_collection.first().select('B8').projection().nominalScale().getInfo()\n",
    "\n",
    "# Extract the date information\n",
    "image_info = sentinel_collection.first().getInfo()\n",
    "image_date = image_info['properties']['system:time_start']\n",
    "image_date_str = pd.to_datetime(image_date, unit='ms').strftime('%Y-%m-%d')\n",
    "\n",
    "\n",
    "# Define filenames with unique names based on the image date\n",
    "report_filename = os.path.join(subdirectory, f\"bwma_flood_report_{image_date_str}_{threshold}.html\")\n",
    "map_filename = os.path.join(subdirectory, f\"flooded_area_map_{image_date_str}_{threshold}.html\")\n"
   ]
  },
  {
   "cell_type": "markdown",
   "metadata": {},
   "source": [
    "Create a cloud-free composite by masking cloudy pixels"
   ]
  },
  {
   "cell_type": "code",
   "execution_count": 314,
   "metadata": {},
   "outputs": [
    {
     "data": {
      "text/html": [
       "\n",
       "            <style>\n",
       "                .geemap-dark {\n",
       "                    --jp-widgets-color: white;\n",
       "                    --jp-widgets-label-color: white;\n",
       "                    --jp-ui-font-color1: white;\n",
       "                    --jp-layout-color2: #454545;\n",
       "                    background-color: #383838;\n",
       "                }\n",
       "\n",
       "                .geemap-dark .jupyter-button {\n",
       "                    --jp-layout-color3: #383838;\n",
       "                }\n",
       "\n",
       "                .geemap-colab {\n",
       "                    background-color: var(--colab-primary-surface-color, white);\n",
       "                }\n",
       "\n",
       "                .geemap-colab .jupyter-button {\n",
       "                    --jp-layout-color3: var(--colab-primary-surface-color, white);\n",
       "                }\n",
       "            </style>\n",
       "            "
      ],
      "text/plain": [
       "<IPython.core.display.HTML object>"
      ]
     },
     "metadata": {},
     "output_type": "display_data"
    }
   ],
   "source": [
    "\n",
    "\n",
    "\n",
    "def mask_clouds(image):\n",
    "    cloud_prob = image.select('SCL')  # Scene Classification Layer (SCL)\n",
    "    is_cloud = cloud_prob.eq(9)  # 9 represents clouds in the SCL\n",
    "    return image.updateMask(is_cloud.Not())\n",
    "\n",
    "cloud_free_composite = sentinel_collection.map(mask_clouds).median()"
   ]
  },
  {
   "cell_type": "markdown",
   "metadata": {},
   "source": [
    "Define binary image base on the threshold"
   ]
  },
  {
   "cell_type": "code",
   "execution_count": 316,
   "metadata": {},
   "outputs": [
    {
     "data": {
      "text/html": [
       "\n",
       "            <style>\n",
       "                .geemap-dark {\n",
       "                    --jp-widgets-color: white;\n",
       "                    --jp-widgets-label-color: white;\n",
       "                    --jp-ui-font-color1: white;\n",
       "                    --jp-layout-color2: #454545;\n",
       "                    background-color: #383838;\n",
       "                }\n",
       "\n",
       "                .geemap-dark .jupyter-button {\n",
       "                    --jp-layout-color3: #383838;\n",
       "                }\n",
       "\n",
       "                .geemap-colab {\n",
       "                    background-color: var(--colab-primary-surface-color, white);\n",
       "                }\n",
       "\n",
       "                .geemap-colab .jupyter-button {\n",
       "                    --jp-layout-color3: var(--colab-primary-surface-color, white);\n",
       "                }\n",
       "            </style>\n",
       "            "
      ],
      "text/plain": [
       "<IPython.core.display.HTML object>"
      ]
     },
     "metadata": {},
     "output_type": "display_data"
    }
   ],
   "source": [
    "binary_image = cloud_free_composite.select('B8').divide(10000).lt(threshold).selfMask()"
   ]
  },
  {
   "cell_type": "markdown",
   "metadata": {},
   "source": [
    "Load units from geojson and convert to earth engine geometry"
   ]
  },
  {
   "cell_type": "code",
   "execution_count": 317,
   "metadata": {},
   "outputs": [
    {
     "data": {
      "text/html": [
       "\n",
       "            <style>\n",
       "                .geemap-dark {\n",
       "                    --jp-widgets-color: white;\n",
       "                    --jp-widgets-label-color: white;\n",
       "                    --jp-ui-font-color1: white;\n",
       "                    --jp-layout-color2: #454545;\n",
       "                    background-color: #383838;\n",
       "                }\n",
       "\n",
       "                .geemap-dark .jupyter-button {\n",
       "                    --jp-layout-color3: #383838;\n",
       "                }\n",
       "\n",
       "                .geemap-colab {\n",
       "                    background-color: var(--colab-primary-surface-color, white);\n",
       "                }\n",
       "\n",
       "                .geemap-colab .jupyter-button {\n",
       "                    --jp-layout-color3: var(--colab-primary-surface-color, white);\n",
       "                }\n",
       "            </style>\n",
       "            "
      ],
      "text/plain": [
       "<IPython.core.display.HTML object>"
      ]
     },
     "metadata": {},
     "output_type": "display_data"
    }
   ],
   "source": [
    "gdf = gpd.read_file(\"data/unitsBwma2800.geojson\")\n",
    "units = geemap.geopandas_to_ee(gdf)\n",
    "units = units.filterBounds(bounding_box_geometry)\n",
    "units_clipped = units.map(lambda feature: feature.intersection(bounding_box_geometry))"
   ]
  },
  {
   "cell_type": "markdown",
   "metadata": {},
   "source": [
    "Compute the unit area and flooded area"
   ]
  },
  {
   "cell_type": "code",
   "execution_count": 318,
   "metadata": {},
   "outputs": [
    {
     "data": {
      "text/html": [
       "\n",
       "            <style>\n",
       "                .geemap-dark {\n",
       "                    --jp-widgets-color: white;\n",
       "                    --jp-widgets-label-color: white;\n",
       "                    --jp-ui-font-color1: white;\n",
       "                    --jp-layout-color2: #454545;\n",
       "                    background-color: #383838;\n",
       "                }\n",
       "\n",
       "                .geemap-dark .jupyter-button {\n",
       "                    --jp-layout-color3: #383838;\n",
       "                }\n",
       "\n",
       "                .geemap-colab {\n",
       "                    background-color: var(--colab-primary-surface-color, white);\n",
       "                }\n",
       "\n",
       "                .geemap-colab .jupyter-button {\n",
       "                    --jp-layout-color3: var(--colab-primary-surface-color, white);\n",
       "                }\n",
       "            </style>\n",
       "            "
      ],
      "text/plain": [
       "<IPython.core.display.HTML object>"
      ]
     },
     "metadata": {},
     "output_type": "display_data"
    }
   ],
   "source": [
    "# Compute area of each unit\n",
    "def compute_area(feature):\n",
    "    return feature.set({'unit_acres': feature.geometry().area().divide(4046.86)})\n",
    "\n",
    "units_with_area = units_clipped.map(compute_area)\n",
    "\n",
    "# Compute the flooded area within each unit\n",
    "def compute_refined_flood_area(feature):\n",
    "    geom = feature.geometry()\n",
    "    total_pixels = cloud_free_composite.select('B8').reduceRegion(\n",
    "        reducer=ee.Reducer.count(), geometry=geom, scale=10).get('B8')\n",
    "    flooded_pixels = binary_image.reduceRegion(\n",
    "        reducer=ee.Reducer.count(), geometry=geom, scale=10).get('B8')\n",
    "    pixel_area_m2 = ee.Number(pixel_size).multiply(pixel_size)\n",
    "    pixel_area_acres = pixel_area_m2.multiply(0.000247105)\n",
    "    flooded_area_acres = ee.Number(flooded_pixels).multiply(pixel_area_acres)\n",
    "    flooded_percentage = ee.Number(flooded_pixels).divide(total_pixels).multiply(100)\n",
    "    unit_name = feature.get('Flood_Unit')\n",
    "    label = ee.String(unit_name).cat(': ').cat(flooded_area_acres.format('%.2f')).cat(' Acres')\n",
    "    return feature.set({\n",
    "        'total_pixels': total_pixels,\n",
    "        'flooded_pixels': flooded_pixels,\n",
    "        'acres_flooded': flooded_area_acres,\n",
    "        'flooded_percentage': flooded_percentage,\n",
    "        'label': label\n",
    "    })\n",
    "\n",
    "units_with_calculations = units_with_area.map(compute_refined_flood_area)"
   ]
  },
  {
   "cell_type": "markdown",
   "metadata": {},
   "source": [
    "Convert EE feature collection to Pandas DataFrame"
   ]
  },
  {
   "cell_type": "code",
   "execution_count": 319,
   "metadata": {},
   "outputs": [
    {
     "data": {
      "text/html": [
       "\n",
       "            <style>\n",
       "                .geemap-dark {\n",
       "                    --jp-widgets-color: white;\n",
       "                    --jp-widgets-label-color: white;\n",
       "                    --jp-ui-font-color1: white;\n",
       "                    --jp-layout-color2: #454545;\n",
       "                    background-color: #383838;\n",
       "                }\n",
       "\n",
       "                .geemap-dark .jupyter-button {\n",
       "                    --jp-layout-color3: #383838;\n",
       "                }\n",
       "\n",
       "                .geemap-colab {\n",
       "                    background-color: var(--colab-primary-surface-color, white);\n",
       "                }\n",
       "\n",
       "                .geemap-colab .jupyter-button {\n",
       "                    --jp-layout-color3: var(--colab-primary-surface-color, white);\n",
       "                }\n",
       "            </style>\n",
       "            "
      ],
      "text/plain": [
       "<IPython.core.display.HTML object>"
      ]
     },
     "metadata": {},
     "output_type": "display_data"
    }
   ],
   "source": [
    "\n",
    "units_df_properties_reduced = pd.DataFrame(units_with_calculations.getInfo()['features'])\n",
    "units_df_properties_reduced = pd.json_normalize(units_df_properties_reduced['properties'])\n",
    "units_df_properties_reduced = units_df_properties_reduced[['Flood_Unit', 'total_pixels', 'flooded_pixels', 'unit_acres', 'acres_flooded', 'flooded_percentage']]\n",
    "\n",
    "# Round numbers\n",
    "units_df_properties_reduced = units_df_properties_reduced.round(2)"
   ]
  },
  {
   "cell_type": "markdown",
   "metadata": {},
   "source": [
    "Calculate Total Acreage and add total row"
   ]
  },
  {
   "cell_type": "code",
   "execution_count": 320,
   "metadata": {},
   "outputs": [
    {
     "data": {
      "text/html": [
       "\n",
       "            <style>\n",
       "                .geemap-dark {\n",
       "                    --jp-widgets-color: white;\n",
       "                    --jp-widgets-label-color: white;\n",
       "                    --jp-ui-font-color1: white;\n",
       "                    --jp-layout-color2: #454545;\n",
       "                    background-color: #383838;\n",
       "                }\n",
       "\n",
       "                .geemap-dark .jupyter-button {\n",
       "                    --jp-layout-color3: #383838;\n",
       "                }\n",
       "\n",
       "                .geemap-colab {\n",
       "                    background-color: var(--colab-primary-surface-color, white);\n",
       "                }\n",
       "\n",
       "                .geemap-colab .jupyter-button {\n",
       "                    --jp-layout-color3: var(--colab-primary-surface-color, white);\n",
       "                }\n",
       "            </style>\n",
       "            "
      ],
      "text/plain": [
       "<IPython.core.display.HTML object>"
      ]
     },
     "metadata": {},
     "output_type": "display_data"
    },
    {
     "name": "stdout",
     "output_type": "stream",
     "text": [
      "     Flood_Unit  total_pixels  flooded_pixels  unit_acres  acres_flooded  flooded_percentage\n",
      "        Thibaut         99955            1908     1971.07          47.15                1.91\n",
      "           Drew         25462             322      502.65           7.96                1.26\n",
      "      Waggonner         63198            1138     1246.13          28.12                1.80\n",
      " West Winterton         40855              11      805.68           0.27                0.03\n",
      " East Winterton         17010               0      335.14           0.00                0.00\n",
      "South Winterton         26035            1072      513.46          26.49                4.12\n",
      "  Thibaut Ponds         26753               0      527.63           0.00                0.00\n",
      "          Total        299268            4451     5901.76         109.99                1.86\n"
     ]
    }
   ],
   "source": [
    "# Calculate totals\n",
    "total_acres = units_df_properties_reduced['unit_acres'].sum()\n",
    "total_flooded_acres = units_df_properties_reduced['acres_flooded'].sum()\n",
    "total_flooded_percentage = (total_flooded_acres / total_acres) * 100\n",
    "\n",
    "# Add a row for totals\n",
    "totals = pd.DataFrame([{\n",
    "    'Flood_Unit': 'Total',\n",
    "    'total_pixels': units_df_properties_reduced['total_pixels'].sum(),\n",
    "    'flooded_pixels': units_df_properties_reduced['flooded_pixels'].sum(),\n",
    "    'unit_acres': total_acres,\n",
    "    'acres_flooded': total_flooded_acres,\n",
    "    'flooded_percentage': total_flooded_percentage\n",
    "}])\n",
    "\n",
    "# Concatenate totals to the original dataframe\n",
    "units_df_properties_reduced = pd.concat([units_df_properties_reduced, totals], ignore_index=True)\n",
    "\n",
    "# Round the totals row\n",
    "units_df_properties_reduced = units_df_properties_reduced.round(2)\n",
    "\n",
    "# Display the formatted DataFrame\n",
    "print(units_df_properties_reduced.to_string(index=False))\n",
    "\n"
   ]
  },
  {
   "cell_type": "markdown",
   "metadata": {},
   "source": [
    "Create and Save HTML Map"
   ]
  },
  {
   "cell_type": "code",
   "execution_count": 321,
   "metadata": {},
   "outputs": [
    {
     "data": {
      "text/html": [
       "\n",
       "            <style>\n",
       "                .geemap-dark {\n",
       "                    --jp-widgets-color: white;\n",
       "                    --jp-widgets-label-color: white;\n",
       "                    --jp-ui-font-color1: white;\n",
       "                    --jp-layout-color2: #454545;\n",
       "                    background-color: #383838;\n",
       "                }\n",
       "\n",
       "                .geemap-dark .jupyter-button {\n",
       "                    --jp-layout-color3: #383838;\n",
       "                }\n",
       "\n",
       "                .geemap-colab {\n",
       "                    background-color: var(--colab-primary-surface-color, white);\n",
       "                }\n",
       "\n",
       "                .geemap-colab .jupyter-button {\n",
       "                    --jp-layout-color3: var(--colab-primary-surface-color, white);\n",
       "                }\n",
       "            </style>\n",
       "            "
      ],
      "text/plain": [
       "<IPython.core.display.HTML object>"
      ]
     },
     "metadata": {},
     "output_type": "display_data"
    },
    {
     "data": {
      "text/html": [
       "<iframe srcdoc=\"&lt;!DOCTYPE html&gt;\n",
       "&lt;html&gt;\n",
       "&lt;head&gt;\n",
       "    \n",
       "    &lt;meta http-equiv=&quot;content-type&quot; content=&quot;text/html; charset=UTF-8&quot; /&gt;\n",
       "    \n",
       "        &lt;script&gt;\n",
       "            L_NO_TOUCH = false;\n",
       "            L_DISABLE_3D = false;\n",
       "        &lt;/script&gt;\n",
       "    \n",
       "    &lt;style&gt;html, body {width: 100%;height: 100%;margin: 0;padding: 0;}&lt;/style&gt;\n",
       "    &lt;style&gt;#map {position:absolute;top:0;bottom:0;right:0;left:0;}&lt;/style&gt;\n",
       "    &lt;script src=&quot;https://cdn.jsdelivr.net/npm/leaflet@1.9.3/dist/leaflet.js&quot;&gt;&lt;/script&gt;\n",
       "    &lt;script src=&quot;https://code.jquery.com/jquery-3.7.1.min.js&quot;&gt;&lt;/script&gt;\n",
       "    &lt;script src=&quot;https://cdn.jsdelivr.net/npm/bootstrap@5.2.2/dist/js/bootstrap.bundle.min.js&quot;&gt;&lt;/script&gt;\n",
       "    &lt;script src=&quot;https://cdnjs.cloudflare.com/ajax/libs/Leaflet.awesome-markers/2.0.2/leaflet.awesome-markers.js&quot;&gt;&lt;/script&gt;\n",
       "    &lt;link rel=&quot;stylesheet&quot; href=&quot;https://cdn.jsdelivr.net/npm/leaflet@1.9.3/dist/leaflet.css&quot;/&gt;\n",
       "    &lt;link rel=&quot;stylesheet&quot; href=&quot;https://cdn.jsdelivr.net/npm/bootstrap@5.2.2/dist/css/bootstrap.min.css&quot;/&gt;\n",
       "    &lt;link rel=&quot;stylesheet&quot; href=&quot;https://netdna.bootstrapcdn.com/bootstrap/3.0.0/css/bootstrap.min.css&quot;/&gt;\n",
       "    &lt;link rel=&quot;stylesheet&quot; href=&quot;https://cdn.jsdelivr.net/npm/@fortawesome/fontawesome-free@6.2.0/css/all.min.css&quot;/&gt;\n",
       "    &lt;link rel=&quot;stylesheet&quot; href=&quot;https://cdnjs.cloudflare.com/ajax/libs/Leaflet.awesome-markers/2.0.2/leaflet.awesome-markers.css&quot;/&gt;\n",
       "    &lt;link rel=&quot;stylesheet&quot; href=&quot;https://cdn.jsdelivr.net/gh/python-visualization/folium/folium/templates/leaflet.awesome.rotate.min.css&quot;/&gt;\n",
       "    \n",
       "            &lt;meta name=&quot;viewport&quot; content=&quot;width=device-width,\n",
       "                initial-scale=1.0, maximum-scale=1.0, user-scalable=no&quot; /&gt;\n",
       "            &lt;style&gt;\n",
       "                #map_00f780ffc772453322227019219b1cdf {\n",
       "                    position: relative;\n",
       "                    width: 100.0%;\n",
       "                    height: 100.0%;\n",
       "                    left: 0.0%;\n",
       "                    top: 0.0%;\n",
       "                }\n",
       "                .leaflet-container { font-size: 1rem; }\n",
       "            &lt;/style&gt;\n",
       "        \n",
       "    &lt;script src=&quot;https://cdn.jsdelivr.net/npm/leaflet.fullscreen@3.0.0/Control.FullScreen.min.js&quot;&gt;&lt;/script&gt;\n",
       "    &lt;link rel=&quot;stylesheet&quot; href=&quot;https://cdn.jsdelivr.net/npm/leaflet.fullscreen@3.0.0/Control.FullScreen.css&quot;/&gt;\n",
       "    &lt;script src=&quot;https://cdnjs.cloudflare.com/ajax/libs/leaflet.draw/1.0.2/leaflet.draw.js&quot;&gt;&lt;/script&gt;\n",
       "    &lt;link rel=&quot;stylesheet&quot; href=&quot;https://cdnjs.cloudflare.com/ajax/libs/leaflet.draw/1.0.2/leaflet.draw.css&quot;/&gt;\n",
       "    &lt;script src=&quot;https://unpkg.com/leaflet-control-geocoder/dist/Control.Geocoder.js&quot;&gt;&lt;/script&gt;\n",
       "    &lt;link rel=&quot;stylesheet&quot; href=&quot;https://unpkg.com/leaflet-control-geocoder/dist/Control.Geocoder.css&quot;/&gt;\n",
       "&lt;/head&gt;\n",
       "&lt;body&gt;\n",
       "    \n",
       "    \n",
       "            &lt;div class=&quot;folium-map&quot; id=&quot;map_00f780ffc772453322227019219b1cdf&quot; &gt;&lt;/div&gt;\n",
       "        \n",
       "&lt;/body&gt;\n",
       "&lt;script&gt;\n",
       "    \n",
       "    \n",
       "            var map_00f780ffc772453322227019219b1cdf = L.map(\n",
       "                &quot;map_00f780ffc772453322227019219b1cdf&quot;,\n",
       "                {\n",
       "                    center: [36.8795, -118.202],\n",
       "                    crs: L.CRS.EPSG3857,\n",
       "                    zoom: 12,\n",
       "                    zoomControl: true,\n",
       "                    preferCanvas: false,\n",
       "                    eeInitialize: true,\n",
       "                    addGoogleMap: false,\n",
       "                    pluginLatlngpopup: false,\n",
       "                    pluginFullscreen: true,\n",
       "                    pluginDraw: true,\n",
       "                    DrawExport: false,\n",
       "                    pluginMinimap: false,\n",
       "                    locateControl: false,\n",
       "                    searchControl: true,\n",
       "                    layersControl: true,\n",
       "                }\n",
       "            );\n",
       "\n",
       "            \n",
       "\n",
       "        \n",
       "    \n",
       "            var tile_layer_dd7b5c7d990d25f091aaa0edbe751c42 = L.tileLayer(\n",
       "                &quot;https://tile.openstreetmap.org/{z}/{x}/{y}.png&quot;,\n",
       "                {&quot;attribution&quot;: &quot;\\u0026copy; \\u003ca href=\\&quot;https://www.openstreetmap.org/copyright\\&quot;\\u003eOpenStreetMap\\u003c/a\\u003e contributors&quot;, &quot;detectRetina&quot;: false, &quot;maxNativeZoom&quot;: 19, &quot;maxZoom&quot;: 19, &quot;minZoom&quot;: 0, &quot;noWrap&quot;: false, &quot;opacity&quot;: 1, &quot;subdomains&quot;: &quot;abc&quot;, &quot;tms&quot;: false}\n",
       "            );\n",
       "        \n",
       "    \n",
       "            tile_layer_dd7b5c7d990d25f091aaa0edbe751c42.addTo(map_00f780ffc772453322227019219b1cdf);\n",
       "        \n",
       "    \n",
       "            L.control.fullscreen(\n",
       "                {&quot;forceSeparateButton&quot;: false, &quot;position&quot;: &quot;topleft&quot;, &quot;title&quot;: &quot;Full Screen&quot;, &quot;titleCancel&quot;: &quot;Exit Full Screen&quot;}\n",
       "            ).addTo(map_00f780ffc772453322227019219b1cdf);\n",
       "        \n",
       "    \n",
       "            var options = {\n",
       "              position: &quot;topleft&quot;,\n",
       "              draw: {},\n",
       "              edit: {},\n",
       "            }\n",
       "            // FeatureGroup is to store editable layers.\n",
       "            var drawnItems_draw_control_515f9ba5442509bf37905dea76620aed = new L.featureGroup().addTo(\n",
       "                map_00f780ffc772453322227019219b1cdf\n",
       "            );\n",
       "            options.edit.featureGroup = drawnItems_draw_control_515f9ba5442509bf37905dea76620aed;\n",
       "            var draw_control_515f9ba5442509bf37905dea76620aed = new L.Control.Draw(\n",
       "                options\n",
       "            ).addTo( map_00f780ffc772453322227019219b1cdf );\n",
       "            map_00f780ffc772453322227019219b1cdf.on(L.Draw.Event.CREATED, function(e) {\n",
       "                var layer = e.layer,\n",
       "                    type = e.layerType;\n",
       "                var coords = JSON.stringify(layer.toGeoJSON());\n",
       "                layer.on(&#x27;click&#x27;, function() {\n",
       "                    alert(coords);\n",
       "                    console.log(coords);\n",
       "                });\n",
       "                drawnItems_draw_control_515f9ba5442509bf37905dea76620aed.addLayer(layer);\n",
       "             });\n",
       "            map_00f780ffc772453322227019219b1cdf.on(&#x27;draw:created&#x27;, function(e) {\n",
       "                drawnItems_draw_control_515f9ba5442509bf37905dea76620aed.addLayer(e.layer);\n",
       "            });\n",
       "            \n",
       "        \n",
       "    \n",
       "\n",
       "            var geocoderOpts_geocoder_baf52367af89c19a4c10883bb18c916d = {&quot;collapsed&quot;: true, &quot;defaultMarkGeocode&quot;: true, &quot;position&quot;: &quot;topleft&quot;, &quot;provider&quot;: &quot;nominatim&quot;, &quot;providerOptions&quot;: {}, &quot;zoom&quot;: 11};\n",
       "\n",
       "            // note: geocoder name should start with lowercase\n",
       "            var geocoderName_geocoder_baf52367af89c19a4c10883bb18c916d = geocoderOpts_geocoder_baf52367af89c19a4c10883bb18c916d[&quot;provider&quot;];\n",
       "\n",
       "            var customGeocoder_geocoder_baf52367af89c19a4c10883bb18c916d = L.Control.Geocoder[ geocoderName_geocoder_baf52367af89c19a4c10883bb18c916d ](\n",
       "                geocoderOpts_geocoder_baf52367af89c19a4c10883bb18c916d[&#x27;providerOptions&#x27;]\n",
       "            );\n",
       "            geocoderOpts_geocoder_baf52367af89c19a4c10883bb18c916d[&quot;geocoder&quot;] = customGeocoder_geocoder_baf52367af89c19a4c10883bb18c916d;\n",
       "\n",
       "            L.Control.geocoder(\n",
       "                geocoderOpts_geocoder_baf52367af89c19a4c10883bb18c916d\n",
       "            ).on(&#x27;markgeocode&#x27;, function(e) {\n",
       "                var zoom = geocoderOpts_geocoder_baf52367af89c19a4c10883bb18c916d[&#x27;zoom&#x27;] || map_00f780ffc772453322227019219b1cdf.getZoom();\n",
       "                map_00f780ffc772453322227019219b1cdf.setView(e.geocode.center, zoom);\n",
       "            }).addTo(map_00f780ffc772453322227019219b1cdf);\n",
       "\n",
       "        \n",
       "    \n",
       "            map_00f780ffc772453322227019219b1cdf.fitBounds(\n",
       "                [[36.8795, -118.202], [36.8795, -118.202]],\n",
       "                {&quot;maxZoom&quot;: 12}\n",
       "            );\n",
       "        \n",
       "    \n",
       "            var tile_layer_7815b1da3aaf049f30bde22514e972ec = L.tileLayer(\n",
       "                &quot;https://earthengine.googleapis.com/v1/projects/ee-icwd-2023/maps/8f7860588bd21a09be42caac841dc9ce-d4ae15ce784e501cd1cc96b19820a7f9/tiles/{z}/{x}/{y}&quot;,\n",
       "                {&quot;attribution&quot;: &quot;Google Earth Engine&quot;, &quot;detectRetina&quot;: false, &quot;maxNativeZoom&quot;: 24, &quot;maxZoom&quot;: 24, &quot;minZoom&quot;: 0, &quot;noWrap&quot;: false, &quot;opacity&quot;: 1.0, &quot;subdomains&quot;: &quot;abc&quot;, &quot;tms&quot;: false}\n",
       "            );\n",
       "        \n",
       "    \n",
       "            tile_layer_7815b1da3aaf049f30bde22514e972ec.addTo(map_00f780ffc772453322227019219b1cdf);\n",
       "        \n",
       "    \n",
       "            var tile_layer_b361f29c757499b1d07c01969ead659c = L.tileLayer(\n",
       "                &quot;https://earthengine.googleapis.com/v1/projects/ee-icwd-2023/maps/8b1038b5d635bb253d3011d6c0739afd-12e34576c0a0a2fa65c727823e9e075e/tiles/{z}/{x}/{y}&quot;,\n",
       "                {&quot;attribution&quot;: &quot;Google Earth Engine&quot;, &quot;detectRetina&quot;: false, &quot;maxNativeZoom&quot;: 24, &quot;maxZoom&quot;: 24, &quot;minZoom&quot;: 0, &quot;noWrap&quot;: false, &quot;opacity&quot;: 1.0, &quot;subdomains&quot;: &quot;abc&quot;, &quot;tms&quot;: false}\n",
       "            );\n",
       "        \n",
       "    \n",
       "            tile_layer_b361f29c757499b1d07c01969ead659c.addTo(map_00f780ffc772453322227019219b1cdf);\n",
       "        \n",
       "    \n",
       "            var marker_b3a7d6ef93beed305bfd33771e1ff0ef = L.marker(\n",
       "                [36.86044066484152, -118.19616961810209],\n",
       "                {}\n",
       "            ).addTo(map_00f780ffc772453322227019219b1cdf);\n",
       "        \n",
       "    \n",
       "        var popup_70348fdc38b92834672bf9316ae1eb57 = L.popup({&quot;maxWidth&quot;: &quot;100%&quot;});\n",
       "\n",
       "        \n",
       "            \n",
       "                var html_452ca554465e127e7763fc0231a4b736 = $(`&lt;div id=&quot;html_452ca554465e127e7763fc0231a4b736&quot; style=&quot;width: 100.0%; height: 100.0%;&quot;&gt;Thibaut: 47.15 Acres&lt;/div&gt;`)[0];\n",
       "                popup_70348fdc38b92834672bf9316ae1eb57.setContent(html_452ca554465e127e7763fc0231a4b736);\n",
       "            \n",
       "        \n",
       "\n",
       "        marker_b3a7d6ef93beed305bfd33771e1ff0ef.bindPopup(popup_70348fdc38b92834672bf9316ae1eb57)\n",
       "        ;\n",
       "\n",
       "        \n",
       "    \n",
       "    \n",
       "            var marker_14103c5a5e6310714dbc77c9745b0544 = L.marker(\n",
       "                [36.91846697002981, -118.20809887168937],\n",
       "                {}\n",
       "            ).addTo(map_00f780ffc772453322227019219b1cdf);\n",
       "        \n",
       "    \n",
       "        var popup_1c5004c887d53f2fb14fa93416f8183d = L.popup({&quot;maxWidth&quot;: &quot;100%&quot;});\n",
       "\n",
       "        \n",
       "            \n",
       "                var html_40eb4541bf712feafad45b7d502af582 = $(`&lt;div id=&quot;html_40eb4541bf712feafad45b7d502af582&quot; style=&quot;width: 100.0%; height: 100.0%;&quot;&gt;Drew: 7.96 Acres&lt;/div&gt;`)[0];\n",
       "                popup_1c5004c887d53f2fb14fa93416f8183d.setContent(html_40eb4541bf712feafad45b7d502af582);\n",
       "            \n",
       "        \n",
       "\n",
       "        marker_14103c5a5e6310714dbc77c9745b0544.bindPopup(popup_1c5004c887d53f2fb14fa93416f8183d)\n",
       "        ;\n",
       "\n",
       "        \n",
       "    \n",
       "    \n",
       "            var marker_d36d04612b8745f4f5c0c71ca7f8cd39 = L.marker(\n",
       "                [36.89979855072214, -118.19586436691745],\n",
       "                {}\n",
       "            ).addTo(map_00f780ffc772453322227019219b1cdf);\n",
       "        \n",
       "    \n",
       "        var popup_dd0fba080a640b9be4f003c0a714d230 = L.popup({&quot;maxWidth&quot;: &quot;100%&quot;});\n",
       "\n",
       "        \n",
       "            \n",
       "                var html_d49e8c2b827e799ba74789a41e36bb01 = $(`&lt;div id=&quot;html_d49e8c2b827e799ba74789a41e36bb01&quot; style=&quot;width: 100.0%; height: 100.0%;&quot;&gt;Waggonner: 28.12 Acres&lt;/div&gt;`)[0];\n",
       "                popup_dd0fba080a640b9be4f003c0a714d230.setContent(html_d49e8c2b827e799ba74789a41e36bb01);\n",
       "            \n",
       "        \n",
       "\n",
       "        marker_d36d04612b8745f4f5c0c71ca7f8cd39.bindPopup(popup_dd0fba080a640b9be4f003c0a714d230)\n",
       "        ;\n",
       "\n",
       "        \n",
       "    \n",
       "    \n",
       "            var marker_5a5a4602c44091d74ad2946905acdc5b = L.marker(\n",
       "                [36.89781800267362, -118.21569918171215],\n",
       "                {}\n",
       "            ).addTo(map_00f780ffc772453322227019219b1cdf);\n",
       "        \n",
       "    \n",
       "        var popup_2d63ab3c93ce84de9421396c180a5936 = L.popup({&quot;maxWidth&quot;: &quot;100%&quot;});\n",
       "\n",
       "        \n",
       "            \n",
       "                var html_adc46ad67c55a1ef9dadd988c3c084bf = $(`&lt;div id=&quot;html_adc46ad67c55a1ef9dadd988c3c084bf&quot; style=&quot;width: 100.0%; height: 100.0%;&quot;&gt;West Winterton: 0.27 Acres&lt;/div&gt;`)[0];\n",
       "                popup_2d63ab3c93ce84de9421396c180a5936.setContent(html_adc46ad67c55a1ef9dadd988c3c084bf);\n",
       "            \n",
       "        \n",
       "\n",
       "        marker_5a5a4602c44091d74ad2946905acdc5b.bindPopup(popup_2d63ab3c93ce84de9421396c180a5936)\n",
       "        ;\n",
       "\n",
       "        \n",
       "    \n",
       "    \n",
       "            var marker_5e741526b7bb3d552ce07856142e2d2c = L.marker(\n",
       "                [36.90110531089543, -118.20920202369373],\n",
       "                {}\n",
       "            ).addTo(map_00f780ffc772453322227019219b1cdf);\n",
       "        \n",
       "    \n",
       "        var popup_e9e9135b944f7e674392492194a164d6 = L.popup({&quot;maxWidth&quot;: &quot;100%&quot;});\n",
       "\n",
       "        \n",
       "            \n",
       "                var html_ab1d5aae312028cf57e16bef17067fd0 = $(`&lt;div id=&quot;html_ab1d5aae312028cf57e16bef17067fd0&quot; style=&quot;width: 100.0%; height: 100.0%;&quot;&gt;East Winterton: 0.00 Acres&lt;/div&gt;`)[0];\n",
       "                popup_e9e9135b944f7e674392492194a164d6.setContent(html_ab1d5aae312028cf57e16bef17067fd0);\n",
       "            \n",
       "        \n",
       "\n",
       "        marker_5e741526b7bb3d552ce07856142e2d2c.bindPopup(popup_e9e9135b944f7e674392492194a164d6)\n",
       "        ;\n",
       "\n",
       "        \n",
       "    \n",
       "    \n",
       "            var marker_dd1812f15ba6350dcf0c875a6af3497d = L.marker(\n",
       "                [36.878012701624925, -118.20090485228432],\n",
       "                {}\n",
       "            ).addTo(map_00f780ffc772453322227019219b1cdf);\n",
       "        \n",
       "    \n",
       "        var popup_fd0d76b7b34913f2a47fa66504eacd9b = L.popup({&quot;maxWidth&quot;: &quot;100%&quot;});\n",
       "\n",
       "        \n",
       "            \n",
       "                var html_6b3111095db53a80162fd7cf3c1482af = $(`&lt;div id=&quot;html_6b3111095db53a80162fd7cf3c1482af&quot; style=&quot;width: 100.0%; height: 100.0%;&quot;&gt;South Winterton: 26.49 Acres&lt;/div&gt;`)[0];\n",
       "                popup_fd0d76b7b34913f2a47fa66504eacd9b.setContent(html_6b3111095db53a80162fd7cf3c1482af);\n",
       "            \n",
       "        \n",
       "\n",
       "        marker_dd1812f15ba6350dcf0c875a6af3497d.bindPopup(popup_fd0d76b7b34913f2a47fa66504eacd9b)\n",
       "        ;\n",
       "\n",
       "        \n",
       "    \n",
       "    \n",
       "            var marker_7ee6dc9745bed2ae072112696bdd6b2d = L.marker(\n",
       "                [36.87867846980565, -118.21664203614019],\n",
       "                {}\n",
       "            ).addTo(map_00f780ffc772453322227019219b1cdf);\n",
       "        \n",
       "    \n",
       "        var popup_1d6f4f39d14a14e3c4d1149cbd2f3c63 = L.popup({&quot;maxWidth&quot;: &quot;100%&quot;});\n",
       "\n",
       "        \n",
       "            \n",
       "                var html_e094ccd1ae2c5c4fd485c689aa890f64 = $(`&lt;div id=&quot;html_e094ccd1ae2c5c4fd485c689aa890f64&quot; style=&quot;width: 100.0%; height: 100.0%;&quot;&gt;Thibaut Ponds: 0.00 Acres&lt;/div&gt;`)[0];\n",
       "                popup_1d6f4f39d14a14e3c4d1149cbd2f3c63.setContent(html_e094ccd1ae2c5c4fd485c689aa890f64);\n",
       "            \n",
       "        \n",
       "\n",
       "        marker_7ee6dc9745bed2ae072112696bdd6b2d.bindPopup(popup_1d6f4f39d14a14e3c4d1149cbd2f3c63)\n",
       "        ;\n",
       "\n",
       "        \n",
       "    \n",
       "    \n",
       "            var layer_control_d4985902dbbcbb36e07a2b9523d5be00_layers = {\n",
       "                base_layers : {\n",
       "                    &quot;openstreetmap&quot; : tile_layer_dd7b5c7d990d25f091aaa0edbe751c42,\n",
       "                },\n",
       "                overlays :  {\n",
       "                    &quot;Flooded Pixels&quot; : tile_layer_7815b1da3aaf049f30bde22514e972ec,\n",
       "                    &quot;Unit Boundaries&quot; : tile_layer_b361f29c757499b1d07c01969ead659c,\n",
       "                },\n",
       "            };\n",
       "            let layer_control_d4985902dbbcbb36e07a2b9523d5be00 = L.control.layers(\n",
       "                layer_control_d4985902dbbcbb36e07a2b9523d5be00_layers.base_layers,\n",
       "                layer_control_d4985902dbbcbb36e07a2b9523d5be00_layers.overlays,\n",
       "                {&quot;autoZIndex&quot;: true, &quot;collapsed&quot;: true, &quot;position&quot;: &quot;topright&quot;}\n",
       "            ).addTo(map_00f780ffc772453322227019219b1cdf);\n",
       "\n",
       "        \n",
       "    \n",
       "            tile_layer_dd7b5c7d990d25f091aaa0edbe751c42.addTo(map_00f780ffc772453322227019219b1cdf);\n",
       "        \n",
       "    \n",
       "            tile_layer_7815b1da3aaf049f30bde22514e972ec.addTo(map_00f780ffc772453322227019219b1cdf);\n",
       "        \n",
       "    \n",
       "            tile_layer_b361f29c757499b1d07c01969ead659c.addTo(map_00f780ffc772453322227019219b1cdf);\n",
       "        \n",
       "&lt;/script&gt;\n",
       "&lt;/html&gt;\" width=\"100%\" height=\"600\"style=\"border:none !important;\" \"allowfullscreen\" \"webkitallowfullscreen\" \"mozallowfullscreen\"></iframe>"
      ],
      "text/plain": [
       "<geemap.foliumap.Map at 0x28d7e0b6cd0>"
      ]
     },
     "execution_count": 321,
     "metadata": {},
     "output_type": "execute_result"
    }
   ],
   "source": [
    "# Clip the binary image to the unit boundaries\n",
    "clipped_binary_image = binary_image.clip(units)\n",
    "\n",
    "# Create a folium map\n",
    "Map = geemap.Map(center=[36.8795, -118.202], zoom=12)\n",
    "\n",
    "# Add the clipped binary image to the map\n",
    "Map.addLayer(clipped_binary_image, {'palette': ['blue'], 'opacity': 0.5}, 'Flooded Pixels')\n",
    "\n",
    "# Style for unit boundaries\n",
    "units_style = {'color': 'red', 'fillColor': '00000000'}  # '00000000' is transparent in RGBA\n",
    "\n",
    "# Add the unit boundaries to the map\n",
    "Map.addLayer(units_with_calculations.style(**units_style), {}, 'Unit Boundaries')\n",
    "\n",
    "# Add labels to the map\n",
    "labels = units_with_calculations.aggregate_array('label').getInfo()\n",
    "\n",
    "# Extract centroids for each feature\n",
    "def get_centroid(feature):\n",
    "    return feature.geometry().centroid().coordinates()\n",
    "\n",
    "centroids = units_with_calculations.map(lambda f: f.set('centroid', get_centroid(f)))\n",
    "\n",
    "# Get the centroids information\n",
    "centroid_info = centroids.aggregate_array('centroid').getInfo()\n",
    "\n",
    "for label, centroid in zip(labels, centroid_info):\n",
    "    folium.Marker(\n",
    "        location=[centroid[1], centroid[0]],\n",
    "        icon=None,\n",
    "        popup=label\n",
    "    ).add_to(Map)\n",
    "\n",
    "# Display the map\n",
    "Map.add_child(folium.LayerControl())\n",
    "# Save the map to the subdirectory with a unique name\n",
    "Map.save(map_filename)\n",
    "Map"
   ]
  },
  {
   "cell_type": "markdown",
   "metadata": {},
   "source": [
    "Write csv Table"
   ]
  },
  {
   "cell_type": "code",
   "execution_count": 322,
   "metadata": {},
   "outputs": [
    {
     "data": {
      "text/html": [
       "\n",
       "            <style>\n",
       "                .geemap-dark {\n",
       "                    --jp-widgets-color: white;\n",
       "                    --jp-widgets-label-color: white;\n",
       "                    --jp-ui-font-color1: white;\n",
       "                    --jp-layout-color2: #454545;\n",
       "                    background-color: #383838;\n",
       "                }\n",
       "\n",
       "                .geemap-dark .jupyter-button {\n",
       "                    --jp-layout-color3: #383838;\n",
       "                }\n",
       "\n",
       "                .geemap-colab {\n",
       "                    background-color: var(--colab-primary-surface-color, white);\n",
       "                }\n",
       "\n",
       "                .geemap-colab .jupyter-button {\n",
       "                    --jp-layout-color3: var(--colab-primary-surface-color, white);\n",
       "                }\n",
       "            </style>\n",
       "            "
      ],
      "text/plain": [
       "<IPython.core.display.HTML object>"
      ]
     },
     "metadata": {},
     "output_type": "display_data"
    }
   ],
   "source": [
    "\n",
    "# Save the DataFrame to a CSV file\n",
    "units_df_properties_reduced = pd.DataFrame(units_with_calculations.getInfo()['features'])\n",
    "units_df_properties_reduced = pd.json_normalize(units_df_properties_reduced['properties'])\n",
    "units_df_properties_reduced = units_df_properties_reduced[['Flood_Unit', 'total_pixels', 'flooded_pixels', 'unit_acres', 'acres_flooded']]\n",
    "csv_filename = f'flood_report_data_{image_date_str}.csv'\n",
    "units_df_properties_reduced.to_csv(csv_filename, index=False)\n"
   ]
  },
  {
   "cell_type": "markdown",
   "metadata": {},
   "source": [
    "Create HTML Table"
   ]
  },
  {
   "cell_type": "code",
   "execution_count": 323,
   "metadata": {},
   "outputs": [
    {
     "data": {
      "text/html": [
       "\n",
       "            <style>\n",
       "                .geemap-dark {\n",
       "                    --jp-widgets-color: white;\n",
       "                    --jp-widgets-label-color: white;\n",
       "                    --jp-ui-font-color1: white;\n",
       "                    --jp-layout-color2: #454545;\n",
       "                    background-color: #383838;\n",
       "                }\n",
       "\n",
       "                .geemap-dark .jupyter-button {\n",
       "                    --jp-layout-color3: #383838;\n",
       "                }\n",
       "\n",
       "                .geemap-colab {\n",
       "                    background-color: var(--colab-primary-surface-color, white);\n",
       "                }\n",
       "\n",
       "                .geemap-colab .jupyter-button {\n",
       "                    --jp-layout-color3: var(--colab-primary-surface-color, white);\n",
       "                }\n",
       "            </style>\n",
       "            "
      ],
      "text/plain": [
       "<IPython.core.display.HTML object>"
      ]
     },
     "metadata": {},
     "output_type": "display_data"
    }
   ],
   "source": [
    "\n",
    "# Rename columns for display\n",
    "units_df_properties_reduced = units_df_properties_reduced[['Flood_Unit', 'acres_flooded']]\n",
    "units_df_properties_reduced.columns = ['BWMA Unit', 'Acres']\n",
    "\n",
    "# Round acres to whole numbers\n",
    "units_df_properties_reduced['Acres'] = units_df_properties_reduced['Acres'].round(0).astype(int)\n",
    "\n",
    "# Calculate totals\n",
    "total_acres = units_df_properties_reduced['Acres'].sum()\n",
    "totals_row = pd.DataFrame([{'BWMA Unit': 'Total', 'Acres': total_acres}])\n",
    "\n",
    "# Append the totals row to the DataFrame\n",
    "units_df_properties_reduced = pd.concat([units_df_properties_reduced, totals_row], ignore_index=True)\n",
    "\n",
    "\n",
    "# Style the DataFrame and convert to HTML\n",
    "html_table_simple = (\n",
    "    units_df_properties_reduced.style\n",
    "    .set_table_styles([\n",
    "        {'selector': 'th', 'props': [('text-align', 'center'), ('font-size', '14px')]},\n",
    "        {'selector': 'td:nth-child(1)', 'props': [('text-align', 'left'), ('font-size', '12px')]},\n",
    "        {'selector': 'td:nth-child(2)', 'props': [('text-align', 'right'), ('font-size', '12px')]},\n",
    "    ])\n",
    "    .set_properties(subset=pd.IndexSlice[units_df_properties_reduced.index[-1], :], **{'font-weight': 'bold', 'font-size': '14px'})\n",
    "    .hide(axis='index')\n",
    "    .to_html()\n",
    ")\n",
    "\n",
    "\n",
    "# Manually hide the index in the HTML string\n",
    "html_table_simple = html_table_simple.replace('<th></th>', '')\n"
   ]
  },
  {
   "cell_type": "markdown",
   "metadata": {},
   "source": [
    "Create HTML Report"
   ]
  },
  {
   "cell_type": "code",
   "execution_count": 324,
   "metadata": {},
   "outputs": [
    {
     "data": {
      "text/html": [
       "\n",
       "            <style>\n",
       "                .geemap-dark {\n",
       "                    --jp-widgets-color: white;\n",
       "                    --jp-widgets-label-color: white;\n",
       "                    --jp-ui-font-color1: white;\n",
       "                    --jp-layout-color2: #454545;\n",
       "                    background-color: #383838;\n",
       "                }\n",
       "\n",
       "                .geemap-dark .jupyter-button {\n",
       "                    --jp-layout-color3: #383838;\n",
       "                }\n",
       "\n",
       "                .geemap-colab {\n",
       "                    background-color: var(--colab-primary-surface-color, white);\n",
       "                }\n",
       "\n",
       "                .geemap-colab .jupyter-button {\n",
       "                    --jp-layout-color3: var(--colab-primary-surface-color, white);\n",
       "                }\n",
       "            </style>\n",
       "            "
      ],
      "text/plain": [
       "<IPython.core.display.HTML object>"
      ]
     },
     "metadata": {},
     "output_type": "display_data"
    },
    {
     "name": "stdout",
     "output_type": "stream",
     "text": [
      "Report saved to flood_reports\\bwma_flood_report_2024-06-01_0.16.html\n",
      "Map saved to flood_reports\\flooded_area_map_2024-06-01_0.16.html\n"
     ]
    }
   ],
   "source": [
    "\n",
    "\n",
    "# HTML report\n",
    "html_report = f\"\"\"\n",
    "<html>\n",
    "<head>\n",
    "    <title>BWMA Flooded Extent: {image_date_str}</title>\n",
    "    <style>\n",
    "        body {{\n",
    "            font-family: Arial, sans-serif;\n",
    "        }}\n",
    "        .container {{\n",
    "            display: flex;\n",
    "            justify-content: space-between;\n",
    "        }}\n",
    "        .left {{\n",
    "            width: 25%;\n",
    "        }}\n",
    "        .right {{\n",
    "            width: 75%;\n",
    "            text-align: center;\n",
    "        }}\n",
    "        h1, h2 {{\n",
    "            text-align: center;\n",
    "        }}\n",
    "        .notes {{\n",
    "            margin-top: 20px;\n",
    "            padding: 10px;\n",
    "            border-top: 1px solid #000;\n",
    "        }}\n",
    "        /*----CHANGE---- Increase font size and add line above totals row */\n",
    "        table {{\n",
    "            width: 90%;\n",
    "            font-size: 50px;\n",
    "            border-collapse: collapse;\n",
    "        }}\n",
    "        th, td {{\n",
    "            padding: 20px;\n",
    "            text-align: left;\n",
    "            border-bottom: 1px solid #ddd;\n",
    "        }}\n",
    "        th {{\n",
    "            text-align: right;//from center\n",
    "            font-size: 30px;\n",
    "        }}\n",
    "        td:nth-child(2) {{\n",
    "            text-align: right;\n",
    "        }}\n",
    "        tr:last-child {{\n",
    "            font-weight: bold;\n",
    "            font-size: 80px;\n",
    "        }}\n",
    "        tr:last-child td {{\n",
    "            border-top: 3px solid #000;\n",
    "        }}\n",
    "    </style>\n",
    "</head>\n",
    "<body>\n",
    "    <h1>BWMA Flooded Acres and Extent: {image_date_str}</h1>\n",
    "    <div class=\"container\">\n",
    "        <div class=\"left\">\n",
    "            <h2>Flooded Acres</h2>\n",
    "            {html_table_simple}\n",
    "        </div>\n",
    "        <div class=\"right\">\n",
    "            <h2>Spatial Extent</h2>\n",
    "            <p>Imagery Date: {image_date_str}</p>\n",
    "            <iframe src=\"flooded_area_map_{image_date_str}_{threshold}.html\" width=\"90%\" height=\"500\"></iframe>\n",
    "        </div>\n",
    "    </div>\n",
    "    <div class=\"notes\">\n",
    "        <h3>Technical Notes</h3>\n",
    "        <p>Flooded acres were calculated from Sentinel-2 Surface Reflectance imagery using the Earth Engine Python API in a Jupyter notebook.  Sentinel-2 (S2) is a wide-swath, high-resolution, multispectral imaging mission with a global 5-day revisit frequency.</p>\n",
    "        <p>The S2 Multispectral Instrument (MSI) samples 13 spectral bands: Visible and NIR at 10 meters, red edge and SWIR at 20 meters, and atmospheric bands at 60 meters spatial resolution. The Near Infrared (NIR) band was used to identify flooded areas by applying a threshold to isolate water.</p>\n",
    "        <p>The results are validated during routine field checks throughout the seasonal flooding cycle September through April.</p>\n",
    "    </div>\n",
    "</body>\n",
    "</html>\n",
    "\"\"\"\n",
    "\n",
    "# Save the report to an HTML file in the subdirectory\n",
    "with open(report_filename, \"w\") as file:\n",
    "    file.write(html_report)\n",
    "\n",
    "print(f\"Report saved to {report_filename}\")\n",
    "print(f\"Map saved to {map_filename}\")\n"
   ]
  }
 ],
 "metadata": {
  "kernelspec": {
   "display_name": "flood_app_env",
   "language": "python",
   "name": "python3"
  },
  "language_info": {
   "codemirror_mode": {
    "name": "ipython",
    "version": 3
   },
   "file_extension": ".py",
   "mimetype": "text/x-python",
   "name": "python",
   "nbconvert_exporter": "python",
   "pygments_lexer": "ipython3",
   "version": "3.11.9"
  }
 },
 "nbformat": 4,
 "nbformat_minor": 2
}
