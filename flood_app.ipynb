{
 "cells": [
  {
   "cell_type": "markdown",
   "metadata": {},
   "source": [
    "Import necessary libraries\n",
    "authenticate using gcloud api enabled on gcloud project"
   ]
  },
  {
   "cell_type": "code",
   "execution_count": 131,
   "metadata": {},
   "outputs": [
    {
     "data": {
      "text/html": [
       "\n",
       "            <style>\n",
       "                .geemap-dark {\n",
       "                    --jp-widgets-color: white;\n",
       "                    --jp-widgets-label-color: white;\n",
       "                    --jp-ui-font-color1: white;\n",
       "                    --jp-layout-color2: #454545;\n",
       "                    background-color: #383838;\n",
       "                }\n",
       "\n",
       "                .geemap-dark .jupyter-button {\n",
       "                    --jp-layout-color3: #383838;\n",
       "                }\n",
       "\n",
       "                .geemap-colab {\n",
       "                    background-color: var(--colab-primary-surface-color, white);\n",
       "                }\n",
       "\n",
       "                .geemap-colab .jupyter-button {\n",
       "                    --jp-layout-color3: var(--colab-primary-surface-color, white);\n",
       "                }\n",
       "            </style>\n",
       "            "
      ],
      "text/plain": [
       "<IPython.core.display.HTML object>"
      ]
     },
     "metadata": {},
     "output_type": "display_data"
    }
   ],
   "source": [
    "# 1 import libraries\n",
    "import ee\n",
    "import geopandas as gpd\n",
    "import geemap\n",
    "import pandas as pd\n",
    "import folium\n",
    "import geemap.foliumap as geemap\n",
    "from datetime import datetime, timedelta\n",
    "import os\n"
   ]
  },
  {
   "cell_type": "markdown",
   "metadata": {},
   "source": [
    "Trigger authentication"
   ]
  },
  {
   "cell_type": "code",
   "execution_count": 132,
   "metadata": {},
   "outputs": [
    {
     "data": {
      "text/html": [
       "\n",
       "            <style>\n",
       "                .geemap-dark {\n",
       "                    --jp-widgets-color: white;\n",
       "                    --jp-widgets-label-color: white;\n",
       "                    --jp-ui-font-color1: white;\n",
       "                    --jp-layout-color2: #454545;\n",
       "                    background-color: #383838;\n",
       "                }\n",
       "\n",
       "                .geemap-dark .jupyter-button {\n",
       "                    --jp-layout-color3: #383838;\n",
       "                }\n",
       "\n",
       "                .geemap-colab {\n",
       "                    background-color: var(--colab-primary-surface-color, white);\n",
       "                }\n",
       "\n",
       "                .geemap-colab .jupyter-button {\n",
       "                    --jp-layout-color3: var(--colab-primary-surface-color, white);\n",
       "                }\n",
       "            </style>\n",
       "            "
      ],
      "text/plain": [
       "<IPython.core.display.HTML object>"
      ]
     },
     "metadata": {},
     "output_type": "display_data"
    }
   ],
   "source": [
    "\n",
    "# run this in terminal to authenticate with gcloud >> earthengine authenticate"
   ]
  },
  {
   "cell_type": "markdown",
   "metadata": {},
   "source": [
    "Initialize Earth Engine"
   ]
  },
  {
   "cell_type": "code",
   "execution_count": 133,
   "metadata": {},
   "outputs": [
    {
     "data": {
      "text/html": [
       "\n",
       "            <style>\n",
       "                .geemap-dark {\n",
       "                    --jp-widgets-color: white;\n",
       "                    --jp-widgets-label-color: white;\n",
       "                    --jp-ui-font-color1: white;\n",
       "                    --jp-layout-color2: #454545;\n",
       "                    background-color: #383838;\n",
       "                }\n",
       "\n",
       "                .geemap-dark .jupyter-button {\n",
       "                    --jp-layout-color3: #383838;\n",
       "                }\n",
       "\n",
       "                .geemap-colab {\n",
       "                    background-color: var(--colab-primary-surface-color, white);\n",
       "                }\n",
       "\n",
       "                .geemap-colab .jupyter-button {\n",
       "                    --jp-layout-color3: var(--colab-primary-surface-color, white);\n",
       "                }\n",
       "            </style>\n",
       "            "
      ],
      "text/plain": [
       "<IPython.core.display.HTML object>"
      ]
     },
     "metadata": {},
     "output_type": "display_data"
    }
   ],
   "source": [
    "\n",
    "\n",
    "ee.Initialize()"
   ]
  },
  {
   "cell_type": "markdown",
   "metadata": {},
   "source": [
    "# Parameters\n",
    "surface reflectance threshold\n",
    "start date\n",
    "the end date is currently start date + 15 days and the first clear scene, low cloud cover will be selected and the image date is used in the reporting and filenaming convention along with the SR threshold value."
   ]
  },
  {
   "cell_type": "markdown",
   "metadata": {},
   "source": [
    "Spring 2023"
   ]
  },
  {
   "cell_type": "code",
   "execution_count": 134,
   "metadata": {},
   "outputs": [
    {
     "data": {
      "text/html": [
       "\n",
       "            <style>\n",
       "                .geemap-dark {\n",
       "                    --jp-widgets-color: white;\n",
       "                    --jp-widgets-label-color: white;\n",
       "                    --jp-ui-font-color1: white;\n",
       "                    --jp-layout-color2: #454545;\n",
       "                    background-color: #383838;\n",
       "                }\n",
       "\n",
       "                .geemap-dark .jupyter-button {\n",
       "                    --jp-layout-color3: #383838;\n",
       "                }\n",
       "\n",
       "                .geemap-colab {\n",
       "                    background-color: var(--colab-primary-surface-color, white);\n",
       "                }\n",
       "\n",
       "                .geemap-colab .jupyter-button {\n",
       "                    --jp-layout-color3: var(--colab-primary-surface-color, white);\n",
       "                }\n",
       "            </style>\n",
       "            "
      ],
      "text/plain": [
       "<IPython.core.display.HTML object>"
      ]
     },
     "metadata": {},
     "output_type": "display_data"
    }
   ],
   "source": [
    "#---Mar 2023---730 ac***\n",
    "# threshold = .15\n",
    "# start_date = '2023-02-15'\n",
    "\n",
    "#---Mar 2023---1604 ac\n",
    "# threshold = .20\n",
    "# start_date = '2023-02-15'\n",
    "\n",
    "#---May 2023---300 ac\n",
    "# threshold = .15\n",
    "# start_date = '2023-05-01'\n",
    "\n",
    "#---May 2023---449 ac\n",
    "# threshold = .20\n",
    "# start_date = '2023-05-01'\n"
   ]
  },
  {
   "cell_type": "markdown",
   "metadata": {},
   "source": [
    "Fall 2023"
   ]
  },
  {
   "cell_type": "code",
   "execution_count": 135,
   "metadata": {},
   "outputs": [
    {
     "data": {
      "text/html": [
       "\n",
       "            <style>\n",
       "                .geemap-dark {\n",
       "                    --jp-widgets-color: white;\n",
       "                    --jp-widgets-label-color: white;\n",
       "                    --jp-ui-font-color1: white;\n",
       "                    --jp-layout-color2: #454545;\n",
       "                    background-color: #383838;\n",
       "                }\n",
       "\n",
       "                .geemap-dark .jupyter-button {\n",
       "                    --jp-layout-color3: #383838;\n",
       "                }\n",
       "\n",
       "                .geemap-colab {\n",
       "                    background-color: var(--colab-primary-surface-color, white);\n",
       "                }\n",
       "\n",
       "                .geemap-colab .jupyter-button {\n",
       "                    --jp-layout-color3: var(--colab-primary-surface-color, white);\n",
       "                }\n",
       "            </style>\n",
       "            "
      ],
      "text/plain": [
       "<IPython.core.display.HTML object>"
      ]
     },
     "metadata": {},
     "output_type": "display_data"
    }
   ],
   "source": [
    "\n",
    "#---Oct 2023---1175 ac\n",
    "# threshold = .22\n",
    "# start_date = '2023-10-03'\n",
    "\n",
    "#---Nov 2023---618 ac\n",
    "# threshold = .16\n",
    "# start_date = '2023-11-03'\n",
    "\n",
    "#---Nov 2023---760 ac\n",
    "# threshold = .18\n",
    "# start_date = '2023-11-03'\n",
    "\n",
    "#---Nov 2023---987 ac\n",
    "# threshold = .20\n",
    "# start_date = '2023-11-03'\n",
    "\n",
    "#---Nov 2023--- 1125 ac\n",
    "threshold = .21\n",
    "start_date = '2023-11-03'\n",
    "\n",
    "#---Nov 2023---1325 ac***\n",
    "# threshold = .22\n",
    "# start_date = '2023-11-03'\n",
    "\n",
    "\n"
   ]
  },
  {
   "cell_type": "markdown",
   "metadata": {},
   "source": [
    "Spring 2024"
   ]
  },
  {
   "cell_type": "code",
   "execution_count": 136,
   "metadata": {},
   "outputs": [
    {
     "data": {
      "text/html": [
       "\n",
       "            <style>\n",
       "                .geemap-dark {\n",
       "                    --jp-widgets-color: white;\n",
       "                    --jp-widgets-label-color: white;\n",
       "                    --jp-ui-font-color1: white;\n",
       "                    --jp-layout-color2: #454545;\n",
       "                    background-color: #383838;\n",
       "                }\n",
       "\n",
       "                .geemap-dark .jupyter-button {\n",
       "                    --jp-layout-color3: #383838;\n",
       "                }\n",
       "\n",
       "                .geemap-colab {\n",
       "                    background-color: var(--colab-primary-surface-color, white);\n",
       "                }\n",
       "\n",
       "                .geemap-colab .jupyter-button {\n",
       "                    --jp-layout-color3: var(--colab-primary-surface-color, white);\n",
       "                }\n",
       "            </style>\n",
       "            "
      ],
      "text/plain": [
       "<IPython.core.display.HTML object>"
      ]
     },
     "metadata": {},
     "output_type": "display_data"
    }
   ],
   "source": [
    "\n",
    "#---Mar 2024---1130 acres***\n",
    "# threshold = .15\n",
    "# start_date = '2024-02-25'\n",
    "\n",
    "#---Mar 2024---1355 acres***\n",
    "# threshold = .16\n",
    "# start_date = '2024-02-25'\n",
    "\n",
    "#---May 2024---\n",
    "# start_date = '2024-05-10'\n",
    "# threshold = .22\n",
    "\n",
    "#---Jun 2024---92 ac\n",
    "# start_date = '2024-06-01'\n",
    "# threshold = .15\n",
    "\n",
    "#---Jun 2024---109 ac\n",
    "# start_date = '2024-06-01'\n",
    "# threshold = .16\n",
    "\n",
    "#---Jun 2024---109 ac\n",
    "# start_date = '2024-06-06'\n",
    "# threshold = .16\n"
   ]
  },
  {
   "cell_type": "markdown",
   "metadata": {},
   "source": [
    "Compute the end date by adding days to the start date"
   ]
  },
  {
   "cell_type": "code",
   "execution_count": 137,
   "metadata": {},
   "outputs": [
    {
     "data": {
      "text/html": [
       "\n",
       "            <style>\n",
       "                .geemap-dark {\n",
       "                    --jp-widgets-color: white;\n",
       "                    --jp-widgets-label-color: white;\n",
       "                    --jp-ui-font-color1: white;\n",
       "                    --jp-layout-color2: #454545;\n",
       "                    background-color: #383838;\n",
       "                }\n",
       "\n",
       "                .geemap-dark .jupyter-button {\n",
       "                    --jp-layout-color3: #383838;\n",
       "                }\n",
       "\n",
       "                .geemap-colab {\n",
       "                    background-color: var(--colab-primary-surface-color, white);\n",
       "                }\n",
       "\n",
       "                .geemap-colab .jupyter-button {\n",
       "                    --jp-layout-color3: var(--colab-primary-surface-color, white);\n",
       "                }\n",
       "            </style>\n",
       "            "
      ],
      "text/plain": [
       "<IPython.core.display.HTML object>"
      ]
     },
     "metadata": {},
     "output_type": "display_data"
    }
   ],
   "source": [
    "\n",
    "\n",
    "end_date = (datetime.strptime(start_date, '%Y-%m-%d') + timedelta(days=15)).strftime('%Y-%m-%d')\n"
   ]
  },
  {
   "cell_type": "markdown",
   "metadata": {},
   "source": [
    "Report Directory"
   ]
  },
  {
   "cell_type": "code",
   "execution_count": null,
   "metadata": {},
   "outputs": [],
   "source": [
    "\n"
   ]
  },
  {
   "cell_type": "markdown",
   "metadata": {},
   "source": [
    "Define the bounding box coordinates and create a bounding box geometry"
   ]
  },
  {
   "cell_type": "code",
   "execution_count": 138,
   "metadata": {},
   "outputs": [
    {
     "data": {
      "text/html": [
       "\n",
       "            <style>\n",
       "                .geemap-dark {\n",
       "                    --jp-widgets-color: white;\n",
       "                    --jp-widgets-label-color: white;\n",
       "                    --jp-ui-font-color1: white;\n",
       "                    --jp-layout-color2: #454545;\n",
       "                    background-color: #383838;\n",
       "                }\n",
       "\n",
       "                .geemap-dark .jupyter-button {\n",
       "                    --jp-layout-color3: #383838;\n",
       "                }\n",
       "\n",
       "                .geemap-colab {\n",
       "                    background-color: var(--colab-primary-surface-color, white);\n",
       "                }\n",
       "\n",
       "                .geemap-colab .jupyter-button {\n",
       "                    --jp-layout-color3: var(--colab-primary-surface-color, white);\n",
       "                }\n",
       "            </style>\n",
       "            "
      ],
      "text/plain": [
       "<IPython.core.display.HTML object>"
      ]
     },
     "metadata": {},
     "output_type": "display_data"
    }
   ],
   "source": [
    "# Define the bounding box coordinates\n",
    "\n",
    "bbox = [[-118.23240736400778, 36.84651455123723],\n",
    "        [-118.17232588207419, 36.84651455123723],\n",
    "        [-118.17232588207419, 36.924364295139625],\n",
    "        [-118.23240736400778, 36.924364295139625]]\n",
    "\n",
    "# Create a bounding box geometry\n",
    "bounding_box_geometry = ee.Geometry.Polygon(bbox)\n"
   ]
  },
  {
   "cell_type": "markdown",
   "metadata": {},
   "source": [
    "Filter sentinel 2 surface reflectance imagery and extract dates, pixel size"
   ]
  },
  {
   "cell_type": "code",
   "execution_count": 139,
   "metadata": {},
   "outputs": [
    {
     "data": {
      "text/html": [
       "\n",
       "            <style>\n",
       "                .geemap-dark {\n",
       "                    --jp-widgets-color: white;\n",
       "                    --jp-widgets-label-color: white;\n",
       "                    --jp-ui-font-color1: white;\n",
       "                    --jp-layout-color2: #454545;\n",
       "                    background-color: #383838;\n",
       "                }\n",
       "\n",
       "                .geemap-dark .jupyter-button {\n",
       "                    --jp-layout-color3: #383838;\n",
       "                }\n",
       "\n",
       "                .geemap-colab {\n",
       "                    background-color: var(--colab-primary-surface-color, white);\n",
       "                }\n",
       "\n",
       "                .geemap-colab .jupyter-button {\n",
       "                    --jp-layout-color3: var(--colab-primary-surface-color, white);\n",
       "                }\n",
       "            </style>\n",
       "            "
      ],
      "text/plain": [
       "<IPython.core.display.HTML object>"
      ]
     },
     "metadata": {},
     "output_type": "display_data"
    }
   ],
   "source": [
    "# COPERNICUS/S2_SR_HARMONIZED, allows comparisons between dates compared to S2_SR\n",
    "sentinel_collection = ee.ImageCollection('COPERNICUS/S2_SR_HARMONIZED') \\\n",
    "    .filterBounds(bounding_box_geometry) \\\n",
    "    .filterDate(start_date, end_date) \\\n",
    "    .filter(ee.Filter.lt('CLOUDY_PIXEL_PERCENTAGE', 30)) \\\n",
    "    .select(['B8', 'SCL'])  # Select NIR band (B8) and Scene Classification Layer (SCL) for masking clouds\n"
   ]
  },
  {
   "cell_type": "code",
   "execution_count": 140,
   "metadata": {},
   "outputs": [
    {
     "data": {
      "text/html": [
       "\n",
       "            <style>\n",
       "                .geemap-dark {\n",
       "                    --jp-widgets-color: white;\n",
       "                    --jp-widgets-label-color: white;\n",
       "                    --jp-ui-font-color1: white;\n",
       "                    --jp-layout-color2: #454545;\n",
       "                    background-color: #383838;\n",
       "                }\n",
       "\n",
       "                .geemap-dark .jupyter-button {\n",
       "                    --jp-layout-color3: #383838;\n",
       "                }\n",
       "\n",
       "                .geemap-colab {\n",
       "                    background-color: var(--colab-primary-surface-color, white);\n",
       "                }\n",
       "\n",
       "                .geemap-colab .jupyter-button {\n",
       "                    --jp-layout-color3: var(--colab-primary-surface-color, white);\n",
       "                }\n",
       "            </style>\n",
       "            "
      ],
      "text/plain": [
       "<IPython.core.display.HTML object>"
      ]
     },
     "metadata": {},
     "output_type": "display_data"
    },
    {
     "name": "stdout",
     "output_type": "stream",
     "text": [
      "Number of images in collection: 4\n"
     ]
    }
   ],
   "source": [
    "\n",
    "size = sentinel_collection.size().getInfo()\n",
    "print(f\"Number of images in collection: {size}\")\n",
    "\n"
   ]
  },
  {
   "cell_type": "code",
   "execution_count": 141,
   "metadata": {},
   "outputs": [
    {
     "data": {
      "text/html": [
       "\n",
       "            <style>\n",
       "                .geemap-dark {\n",
       "                    --jp-widgets-color: white;\n",
       "                    --jp-widgets-label-color: white;\n",
       "                    --jp-ui-font-color1: white;\n",
       "                    --jp-layout-color2: #454545;\n",
       "                    background-color: #383838;\n",
       "                }\n",
       "\n",
       "                .geemap-dark .jupyter-button {\n",
       "                    --jp-layout-color3: #383838;\n",
       "                }\n",
       "\n",
       "                .geemap-colab {\n",
       "                    background-color: var(--colab-primary-surface-color, white);\n",
       "                }\n",
       "\n",
       "                .geemap-colab .jupyter-button {\n",
       "                    --jp-layout-color3: var(--colab-primary-surface-color, white);\n",
       "                }\n",
       "            </style>\n",
       "            "
      ],
      "text/plain": [
       "<IPython.core.display.HTML object>"
      ]
     },
     "metadata": {},
     "output_type": "display_data"
    }
   ],
   "source": [
    "\n",
    "# Select a single band before retrieving the projection information\n",
    "pixel_size = sentinel_collection.first().select('B8').projection().nominalScale().getInfo()\n"
   ]
  },
  {
   "cell_type": "code",
   "execution_count": 142,
   "metadata": {},
   "outputs": [
    {
     "data": {
      "text/html": [
       "\n",
       "            <style>\n",
       "                .geemap-dark {\n",
       "                    --jp-widgets-color: white;\n",
       "                    --jp-widgets-label-color: white;\n",
       "                    --jp-ui-font-color1: white;\n",
       "                    --jp-layout-color2: #454545;\n",
       "                    background-color: #383838;\n",
       "                }\n",
       "\n",
       "                .geemap-dark .jupyter-button {\n",
       "                    --jp-layout-color3: #383838;\n",
       "                }\n",
       "\n",
       "                .geemap-colab {\n",
       "                    background-color: var(--colab-primary-surface-color, white);\n",
       "                }\n",
       "\n",
       "                .geemap-colab .jupyter-button {\n",
       "                    --jp-layout-color3: var(--colab-primary-surface-color, white);\n",
       "                }\n",
       "            </style>\n",
       "            "
      ],
      "text/plain": [
       "<IPython.core.display.HTML object>"
      ]
     },
     "metadata": {},
     "output_type": "display_data"
    }
   ],
   "source": [
    "\n",
    "# Extract the date information\n",
    "image_info = sentinel_collection.first().getInfo()\n",
    "image_date = image_info['properties']['system:time_start']\n",
    "image_date_str = pd.to_datetime(image_date, unit='ms').strftime('%Y-%m-%d')\n",
    "\n"
   ]
  },
  {
   "cell_type": "markdown",
   "metadata": {},
   "source": [
    "report and map directories and file names"
   ]
  },
  {
   "cell_type": "code",
   "execution_count": 143,
   "metadata": {},
   "outputs": [
    {
     "data": {
      "text/html": [
       "\n",
       "            <style>\n",
       "                .geemap-dark {\n",
       "                    --jp-widgets-color: white;\n",
       "                    --jp-widgets-label-color: white;\n",
       "                    --jp-ui-font-color1: white;\n",
       "                    --jp-layout-color2: #454545;\n",
       "                    background-color: #383838;\n",
       "                }\n",
       "\n",
       "                .geemap-dark .jupyter-button {\n",
       "                    --jp-layout-color3: #383838;\n",
       "                }\n",
       "\n",
       "                .geemap-colab {\n",
       "                    background-color: var(--colab-primary-surface-color, white);\n",
       "                }\n",
       "\n",
       "                .geemap-colab .jupyter-button {\n",
       "                    --jp-layout-color3: var(--colab-primary-surface-color, white);\n",
       "                }\n",
       "            </style>\n",
       "            "
      ],
      "text/plain": [
       "<IPython.core.display.HTML object>"
      ]
     },
     "metadata": {},
     "output_type": "display_data"
    }
   ],
   "source": [
    "# directory location for reports\n",
    "html_subdirectory = \"flood_reports/html_reports_maps\"\n",
    "os.makedirs(html_subdirectory, exist_ok=True)\n",
    "\n",
    "\n",
    "# Define filenames with unique names based on the image date\n",
    "report_filename = os.path.join(html_subdirectory, f\"bwma_flood_report_{image_date_str}_{threshold}.html\")\n",
    "map_filename = os.path.join(html_subdirectory, f\"flooded_area_map_{image_date_str}_{threshold}.html\")\n"
   ]
  },
  {
   "cell_type": "markdown",
   "metadata": {},
   "source": [
    "Create a cloud-free composite by masking cloudy pixels"
   ]
  },
  {
   "cell_type": "code",
   "execution_count": 144,
   "metadata": {},
   "outputs": [
    {
     "data": {
      "text/html": [
       "\n",
       "            <style>\n",
       "                .geemap-dark {\n",
       "                    --jp-widgets-color: white;\n",
       "                    --jp-widgets-label-color: white;\n",
       "                    --jp-ui-font-color1: white;\n",
       "                    --jp-layout-color2: #454545;\n",
       "                    background-color: #383838;\n",
       "                }\n",
       "\n",
       "                .geemap-dark .jupyter-button {\n",
       "                    --jp-layout-color3: #383838;\n",
       "                }\n",
       "\n",
       "                .geemap-colab {\n",
       "                    background-color: var(--colab-primary-surface-color, white);\n",
       "                }\n",
       "\n",
       "                .geemap-colab .jupyter-button {\n",
       "                    --jp-layout-color3: var(--colab-primary-surface-color, white);\n",
       "                }\n",
       "            </style>\n",
       "            "
      ],
      "text/plain": [
       "<IPython.core.display.HTML object>"
      ]
     },
     "metadata": {},
     "output_type": "display_data"
    }
   ],
   "source": [
    "\n",
    "\n",
    "\n",
    "def mask_clouds(image):\n",
    "    cloud_prob = image.select('SCL')  # Scene Classification Layer (SCL)\n",
    "    is_cloud = cloud_prob.eq(9)  # 9 represents clouds in the SCL\n",
    "    return image.updateMask(is_cloud.Not())\n",
    "\n",
    "cloud_free_composite = sentinel_collection.map(mask_clouds).median()"
   ]
  },
  {
   "cell_type": "markdown",
   "metadata": {},
   "source": [
    "Define binary image base on the threshold"
   ]
  },
  {
   "cell_type": "code",
   "execution_count": 145,
   "metadata": {},
   "outputs": [
    {
     "data": {
      "text/html": [
       "\n",
       "            <style>\n",
       "                .geemap-dark {\n",
       "                    --jp-widgets-color: white;\n",
       "                    --jp-widgets-label-color: white;\n",
       "                    --jp-ui-font-color1: white;\n",
       "                    --jp-layout-color2: #454545;\n",
       "                    background-color: #383838;\n",
       "                }\n",
       "\n",
       "                .geemap-dark .jupyter-button {\n",
       "                    --jp-layout-color3: #383838;\n",
       "                }\n",
       "\n",
       "                .geemap-colab {\n",
       "                    background-color: var(--colab-primary-surface-color, white);\n",
       "                }\n",
       "\n",
       "                .geemap-colab .jupyter-button {\n",
       "                    --jp-layout-color3: var(--colab-primary-surface-color, white);\n",
       "                }\n",
       "            </style>\n",
       "            "
      ],
      "text/plain": [
       "<IPython.core.display.HTML object>"
      ]
     },
     "metadata": {},
     "output_type": "display_data"
    }
   ],
   "source": [
    "binary_image = cloud_free_composite.select('B8').divide(10000).lt(threshold).selfMask()"
   ]
  },
  {
   "cell_type": "markdown",
   "metadata": {},
   "source": [
    "Load units from geojson and convert to earth engine geometry"
   ]
  },
  {
   "cell_type": "code",
   "execution_count": 146,
   "metadata": {},
   "outputs": [
    {
     "data": {
      "text/html": [
       "\n",
       "            <style>\n",
       "                .geemap-dark {\n",
       "                    --jp-widgets-color: white;\n",
       "                    --jp-widgets-label-color: white;\n",
       "                    --jp-ui-font-color1: white;\n",
       "                    --jp-layout-color2: #454545;\n",
       "                    background-color: #383838;\n",
       "                }\n",
       "\n",
       "                .geemap-dark .jupyter-button {\n",
       "                    --jp-layout-color3: #383838;\n",
       "                }\n",
       "\n",
       "                .geemap-colab {\n",
       "                    background-color: var(--colab-primary-surface-color, white);\n",
       "                }\n",
       "\n",
       "                .geemap-colab .jupyter-button {\n",
       "                    --jp-layout-color3: var(--colab-primary-surface-color, white);\n",
       "                }\n",
       "            </style>\n",
       "            "
      ],
      "text/plain": [
       "<IPython.core.display.HTML object>"
      ]
     },
     "metadata": {},
     "output_type": "display_data"
    }
   ],
   "source": [
    "gdf = gpd.read_file(\"data/unitsBwma2800.geojson\")\n",
    "units = geemap.geopandas_to_ee(gdf)\n",
    "units = units.filterBounds(bounding_box_geometry)\n",
    "units_clipped = units.map(lambda feature: feature.intersection(bounding_box_geometry))"
   ]
  },
  {
   "cell_type": "markdown",
   "metadata": {},
   "source": [
    "Compute the unit area and flooded area"
   ]
  },
  {
   "cell_type": "code",
   "execution_count": 147,
   "metadata": {},
   "outputs": [
    {
     "data": {
      "text/html": [
       "\n",
       "            <style>\n",
       "                .geemap-dark {\n",
       "                    --jp-widgets-color: white;\n",
       "                    --jp-widgets-label-color: white;\n",
       "                    --jp-ui-font-color1: white;\n",
       "                    --jp-layout-color2: #454545;\n",
       "                    background-color: #383838;\n",
       "                }\n",
       "\n",
       "                .geemap-dark .jupyter-button {\n",
       "                    --jp-layout-color3: #383838;\n",
       "                }\n",
       "\n",
       "                .geemap-colab {\n",
       "                    background-color: var(--colab-primary-surface-color, white);\n",
       "                }\n",
       "\n",
       "                .geemap-colab .jupyter-button {\n",
       "                    --jp-layout-color3: var(--colab-primary-surface-color, white);\n",
       "                }\n",
       "            </style>\n",
       "            "
      ],
      "text/plain": [
       "<IPython.core.display.HTML object>"
      ]
     },
     "metadata": {},
     "output_type": "display_data"
    }
   ],
   "source": [
    "# Compute area of each unit\n",
    "def compute_area(feature):\n",
    "    return feature.set({'unit_acres': feature.geometry().area().divide(4046.86)})\n",
    "\n",
    "units_with_area = units_clipped.map(compute_area)\n",
    "\n",
    "# Compute the flooded area within each unit\n",
    "def compute_refined_flood_area(feature):\n",
    "    geom = feature.geometry()\n",
    "    total_pixels = cloud_free_composite.select('B8').reduceRegion(\n",
    "        reducer=ee.Reducer.count(), geometry=geom, scale=10).get('B8')\n",
    "    flooded_pixels = binary_image.reduceRegion(\n",
    "        reducer=ee.Reducer.count(), geometry=geom, scale=10).get('B8')\n",
    "    pixel_area_m2 = ee.Number(pixel_size).multiply(pixel_size)\n",
    "    pixel_area_acres = pixel_area_m2.multiply(0.000247105)\n",
    "    flooded_area_acres = ee.Number(flooded_pixels).multiply(pixel_area_acres)\n",
    "    flooded_percentage = ee.Number(flooded_pixels).divide(total_pixels).multiply(100)\n",
    "    unit_name = feature.get('Flood_Unit')\n",
    "    label = ee.String(unit_name).cat(': ').cat(flooded_area_acres.format('%.2f')).cat(' Acres')\n",
    "    return feature.set({\n",
    "        'total_pixels': total_pixels,\n",
    "        'flooded_pixels': flooded_pixels,\n",
    "        'acres_flooded': flooded_area_acres,\n",
    "        'flooded_percentage': flooded_percentage,\n",
    "        'label': label\n",
    "    })\n",
    "\n",
    "units_with_calculations = units_with_area.map(compute_refined_flood_area)"
   ]
  },
  {
   "cell_type": "markdown",
   "metadata": {},
   "source": [
    "Convert EE feature collection to Pandas DataFrame"
   ]
  },
  {
   "cell_type": "code",
   "execution_count": 148,
   "metadata": {},
   "outputs": [
    {
     "data": {
      "text/html": [
       "\n",
       "            <style>\n",
       "                .geemap-dark {\n",
       "                    --jp-widgets-color: white;\n",
       "                    --jp-widgets-label-color: white;\n",
       "                    --jp-ui-font-color1: white;\n",
       "                    --jp-layout-color2: #454545;\n",
       "                    background-color: #383838;\n",
       "                }\n",
       "\n",
       "                .geemap-dark .jupyter-button {\n",
       "                    --jp-layout-color3: #383838;\n",
       "                }\n",
       "\n",
       "                .geemap-colab {\n",
       "                    background-color: var(--colab-primary-surface-color, white);\n",
       "                }\n",
       "\n",
       "                .geemap-colab .jupyter-button {\n",
       "                    --jp-layout-color3: var(--colab-primary-surface-color, white);\n",
       "                }\n",
       "            </style>\n",
       "            "
      ],
      "text/plain": [
       "<IPython.core.display.HTML object>"
      ]
     },
     "metadata": {},
     "output_type": "display_data"
    }
   ],
   "source": [
    "\n",
    "units_df_properties_reduced = pd.DataFrame(units_with_calculations.getInfo()['features'])\n",
    "units_df_properties_reduced = pd.json_normalize(units_df_properties_reduced['properties'])\n",
    "units_df_properties_reduced = units_df_properties_reduced[['Flood_Unit', 'total_pixels', 'flooded_pixels', 'unit_acres', 'acres_flooded', 'flooded_percentage']]\n",
    "\n",
    "# Round numbers\n",
    "units_df_properties_reduced = units_df_properties_reduced.round(2)"
   ]
  },
  {
   "cell_type": "markdown",
   "metadata": {},
   "source": [
    "Calculate Total Acreage and add total row"
   ]
  },
  {
   "cell_type": "code",
   "execution_count": 149,
   "metadata": {},
   "outputs": [
    {
     "data": {
      "text/html": [
       "\n",
       "            <style>\n",
       "                .geemap-dark {\n",
       "                    --jp-widgets-color: white;\n",
       "                    --jp-widgets-label-color: white;\n",
       "                    --jp-ui-font-color1: white;\n",
       "                    --jp-layout-color2: #454545;\n",
       "                    background-color: #383838;\n",
       "                }\n",
       "\n",
       "                .geemap-dark .jupyter-button {\n",
       "                    --jp-layout-color3: #383838;\n",
       "                }\n",
       "\n",
       "                .geemap-colab {\n",
       "                    background-color: var(--colab-primary-surface-color, white);\n",
       "                }\n",
       "\n",
       "                .geemap-colab .jupyter-button {\n",
       "                    --jp-layout-color3: var(--colab-primary-surface-color, white);\n",
       "                }\n",
       "            </style>\n",
       "            "
      ],
      "text/plain": [
       "<IPython.core.display.HTML object>"
      ]
     },
     "metadata": {},
     "output_type": "display_data"
    },
    {
     "name": "stdout",
     "output_type": "stream",
     "text": [
      "     Flood_Unit  total_pixels  flooded_pixels  unit_acres  acres_flooded  flooded_percentage\n",
      "        Thibaut         99955           16952     1971.07         418.89               16.96\n",
      "           Drew         25462            3544      502.65          87.57               13.92\n",
      "      Waggonner         63198           12079     1246.13         298.48               19.11\n",
      " West Winterton         40855            3872      805.68          95.68                9.48\n",
      " East Winterton         17010            2391      335.14          59.08               14.06\n",
      "South Winterton         26035            4390      513.46         108.48               16.86\n",
      "  Thibaut Ponds         26753            2311      527.63          57.11                8.64\n",
      "          Total        299268           45539     5901.76        1125.29               19.07\n"
     ]
    }
   ],
   "source": [
    "# Calculate totals\n",
    "total_acres = units_df_properties_reduced['unit_acres'].sum()\n",
    "total_flooded_acres = units_df_properties_reduced['acres_flooded'].sum()\n",
    "total_flooded_percentage = (total_flooded_acres / total_acres) * 100\n",
    "\n",
    "# Add a row for totals\n",
    "totals = pd.DataFrame([{\n",
    "    'Flood_Unit': 'Total',\n",
    "    'total_pixels': units_df_properties_reduced['total_pixels'].sum(),\n",
    "    'flooded_pixels': units_df_properties_reduced['flooded_pixels'].sum(),\n",
    "    'unit_acres': total_acres,\n",
    "    'acres_flooded': total_flooded_acres,\n",
    "    'flooded_percentage': total_flooded_percentage\n",
    "}])\n",
    "\n",
    "# Concatenate totals to the original dataframe\n",
    "units_df_properties_reduced = pd.concat([units_df_properties_reduced, totals], ignore_index=True)\n",
    "\n",
    "# Round the totals row\n",
    "units_df_properties_reduced = units_df_properties_reduced.round(2)\n",
    "\n",
    "# Display the formatted DataFrame\n",
    "print(units_df_properties_reduced.to_string(index=False))\n",
    "\n"
   ]
  },
  {
   "cell_type": "markdown",
   "metadata": {},
   "source": [
    "Create and Save HTML Map"
   ]
  },
  {
   "cell_type": "code",
   "execution_count": 150,
   "metadata": {},
   "outputs": [
    {
     "data": {
      "text/html": [
       "\n",
       "            <style>\n",
       "                .geemap-dark {\n",
       "                    --jp-widgets-color: white;\n",
       "                    --jp-widgets-label-color: white;\n",
       "                    --jp-ui-font-color1: white;\n",
       "                    --jp-layout-color2: #454545;\n",
       "                    background-color: #383838;\n",
       "                }\n",
       "\n",
       "                .geemap-dark .jupyter-button {\n",
       "                    --jp-layout-color3: #383838;\n",
       "                }\n",
       "\n",
       "                .geemap-colab {\n",
       "                    background-color: var(--colab-primary-surface-color, white);\n",
       "                }\n",
       "\n",
       "                .geemap-colab .jupyter-button {\n",
       "                    --jp-layout-color3: var(--colab-primary-surface-color, white);\n",
       "                }\n",
       "            </style>\n",
       "            "
      ],
      "text/plain": [
       "<IPython.core.display.HTML object>"
      ]
     },
     "metadata": {},
     "output_type": "display_data"
    },
    {
     "data": {
      "text/html": [
       "<iframe srcdoc=\"&lt;!DOCTYPE html&gt;\n",
       "&lt;html&gt;\n",
       "&lt;head&gt;\n",
       "    \n",
       "    &lt;meta http-equiv=&quot;content-type&quot; content=&quot;text/html; charset=UTF-8&quot; /&gt;\n",
       "    \n",
       "        &lt;script&gt;\n",
       "            L_NO_TOUCH = false;\n",
       "            L_DISABLE_3D = false;\n",
       "        &lt;/script&gt;\n",
       "    \n",
       "    &lt;style&gt;html, body {width: 100%;height: 100%;margin: 0;padding: 0;}&lt;/style&gt;\n",
       "    &lt;style&gt;#map {position:absolute;top:0;bottom:0;right:0;left:0;}&lt;/style&gt;\n",
       "    &lt;script src=&quot;https://cdn.jsdelivr.net/npm/leaflet@1.9.3/dist/leaflet.js&quot;&gt;&lt;/script&gt;\n",
       "    &lt;script src=&quot;https://code.jquery.com/jquery-3.7.1.min.js&quot;&gt;&lt;/script&gt;\n",
       "    &lt;script src=&quot;https://cdn.jsdelivr.net/npm/bootstrap@5.2.2/dist/js/bootstrap.bundle.min.js&quot;&gt;&lt;/script&gt;\n",
       "    &lt;script src=&quot;https://cdnjs.cloudflare.com/ajax/libs/Leaflet.awesome-markers/2.0.2/leaflet.awesome-markers.js&quot;&gt;&lt;/script&gt;\n",
       "    &lt;link rel=&quot;stylesheet&quot; href=&quot;https://cdn.jsdelivr.net/npm/leaflet@1.9.3/dist/leaflet.css&quot;/&gt;\n",
       "    &lt;link rel=&quot;stylesheet&quot; href=&quot;https://cdn.jsdelivr.net/npm/bootstrap@5.2.2/dist/css/bootstrap.min.css&quot;/&gt;\n",
       "    &lt;link rel=&quot;stylesheet&quot; href=&quot;https://netdna.bootstrapcdn.com/bootstrap/3.0.0/css/bootstrap.min.css&quot;/&gt;\n",
       "    &lt;link rel=&quot;stylesheet&quot; href=&quot;https://cdn.jsdelivr.net/npm/@fortawesome/fontawesome-free@6.2.0/css/all.min.css&quot;/&gt;\n",
       "    &lt;link rel=&quot;stylesheet&quot; href=&quot;https://cdnjs.cloudflare.com/ajax/libs/Leaflet.awesome-markers/2.0.2/leaflet.awesome-markers.css&quot;/&gt;\n",
       "    &lt;link rel=&quot;stylesheet&quot; href=&quot;https://cdn.jsdelivr.net/gh/python-visualization/folium/folium/templates/leaflet.awesome.rotate.min.css&quot;/&gt;\n",
       "    \n",
       "            &lt;meta name=&quot;viewport&quot; content=&quot;width=device-width,\n",
       "                initial-scale=1.0, maximum-scale=1.0, user-scalable=no&quot; /&gt;\n",
       "            &lt;style&gt;\n",
       "                #map_ba69e634f1be39a9392f959a437052cc {\n",
       "                    position: relative;\n",
       "                    width: 100.0%;\n",
       "                    height: 100.0%;\n",
       "                    left: 0.0%;\n",
       "                    top: 0.0%;\n",
       "                }\n",
       "                .leaflet-container { font-size: 1rem; }\n",
       "            &lt;/style&gt;\n",
       "        \n",
       "    &lt;script src=&quot;https://cdn.jsdelivr.net/npm/leaflet.fullscreen@3.0.0/Control.FullScreen.min.js&quot;&gt;&lt;/script&gt;\n",
       "    &lt;link rel=&quot;stylesheet&quot; href=&quot;https://cdn.jsdelivr.net/npm/leaflet.fullscreen@3.0.0/Control.FullScreen.css&quot;/&gt;\n",
       "    &lt;script src=&quot;https://cdnjs.cloudflare.com/ajax/libs/leaflet.draw/1.0.2/leaflet.draw.js&quot;&gt;&lt;/script&gt;\n",
       "    &lt;link rel=&quot;stylesheet&quot; href=&quot;https://cdnjs.cloudflare.com/ajax/libs/leaflet.draw/1.0.2/leaflet.draw.css&quot;/&gt;\n",
       "    &lt;script src=&quot;https://unpkg.com/leaflet-control-geocoder/dist/Control.Geocoder.js&quot;&gt;&lt;/script&gt;\n",
       "    &lt;link rel=&quot;stylesheet&quot; href=&quot;https://unpkg.com/leaflet-control-geocoder/dist/Control.Geocoder.css&quot;/&gt;\n",
       "&lt;/head&gt;\n",
       "&lt;body&gt;\n",
       "    \n",
       "    \n",
       "            &lt;div class=&quot;folium-map&quot; id=&quot;map_ba69e634f1be39a9392f959a437052cc&quot; &gt;&lt;/div&gt;\n",
       "        \n",
       "&lt;/body&gt;\n",
       "&lt;script&gt;\n",
       "    \n",
       "    \n",
       "            var map_ba69e634f1be39a9392f959a437052cc = L.map(\n",
       "                &quot;map_ba69e634f1be39a9392f959a437052cc&quot;,\n",
       "                {\n",
       "                    center: [36.8795, -118.202],\n",
       "                    crs: L.CRS.EPSG3857,\n",
       "                    zoom: 12,\n",
       "                    zoomControl: true,\n",
       "                    preferCanvas: false,\n",
       "                    eeInitialize: true,\n",
       "                    addGoogleMap: false,\n",
       "                    pluginLatlngpopup: false,\n",
       "                    pluginFullscreen: true,\n",
       "                    pluginDraw: true,\n",
       "                    DrawExport: false,\n",
       "                    pluginMinimap: false,\n",
       "                    locateControl: false,\n",
       "                    searchControl: true,\n",
       "                    layersControl: true,\n",
       "                }\n",
       "            );\n",
       "\n",
       "            \n",
       "\n",
       "        \n",
       "    \n",
       "            var tile_layer_286dcb12f62e4eba38c4a73fb8598216 = L.tileLayer(\n",
       "                &quot;https://tile.openstreetmap.org/{z}/{x}/{y}.png&quot;,\n",
       "                {&quot;attribution&quot;: &quot;\\u0026copy; \\u003ca href=\\&quot;https://www.openstreetmap.org/copyright\\&quot;\\u003eOpenStreetMap\\u003c/a\\u003e contributors&quot;, &quot;detectRetina&quot;: false, &quot;maxNativeZoom&quot;: 19, &quot;maxZoom&quot;: 19, &quot;minZoom&quot;: 0, &quot;noWrap&quot;: false, &quot;opacity&quot;: 1, &quot;subdomains&quot;: &quot;abc&quot;, &quot;tms&quot;: false}\n",
       "            );\n",
       "        \n",
       "    \n",
       "            tile_layer_286dcb12f62e4eba38c4a73fb8598216.addTo(map_ba69e634f1be39a9392f959a437052cc);\n",
       "        \n",
       "    \n",
       "            L.control.fullscreen(\n",
       "                {&quot;forceSeparateButton&quot;: false, &quot;position&quot;: &quot;topleft&quot;, &quot;title&quot;: &quot;Full Screen&quot;, &quot;titleCancel&quot;: &quot;Exit Full Screen&quot;}\n",
       "            ).addTo(map_ba69e634f1be39a9392f959a437052cc);\n",
       "        \n",
       "    \n",
       "            var options = {\n",
       "              position: &quot;topleft&quot;,\n",
       "              draw: {},\n",
       "              edit: {},\n",
       "            }\n",
       "            // FeatureGroup is to store editable layers.\n",
       "            var drawnItems_draw_control_b335af12b694b552b4aab09993b82d3e = new L.featureGroup().addTo(\n",
       "                map_ba69e634f1be39a9392f959a437052cc\n",
       "            );\n",
       "            options.edit.featureGroup = drawnItems_draw_control_b335af12b694b552b4aab09993b82d3e;\n",
       "            var draw_control_b335af12b694b552b4aab09993b82d3e = new L.Control.Draw(\n",
       "                options\n",
       "            ).addTo( map_ba69e634f1be39a9392f959a437052cc );\n",
       "            map_ba69e634f1be39a9392f959a437052cc.on(L.Draw.Event.CREATED, function(e) {\n",
       "                var layer = e.layer,\n",
       "                    type = e.layerType;\n",
       "                var coords = JSON.stringify(layer.toGeoJSON());\n",
       "                layer.on(&#x27;click&#x27;, function() {\n",
       "                    alert(coords);\n",
       "                    console.log(coords);\n",
       "                });\n",
       "                drawnItems_draw_control_b335af12b694b552b4aab09993b82d3e.addLayer(layer);\n",
       "             });\n",
       "            map_ba69e634f1be39a9392f959a437052cc.on(&#x27;draw:created&#x27;, function(e) {\n",
       "                drawnItems_draw_control_b335af12b694b552b4aab09993b82d3e.addLayer(e.layer);\n",
       "            });\n",
       "            \n",
       "        \n",
       "    \n",
       "\n",
       "            var geocoderOpts_geocoder_eb38383a1333c93309ea6e50aab69175 = {&quot;collapsed&quot;: true, &quot;defaultMarkGeocode&quot;: true, &quot;position&quot;: &quot;topleft&quot;, &quot;provider&quot;: &quot;nominatim&quot;, &quot;providerOptions&quot;: {}, &quot;zoom&quot;: 11};\n",
       "\n",
       "            // note: geocoder name should start with lowercase\n",
       "            var geocoderName_geocoder_eb38383a1333c93309ea6e50aab69175 = geocoderOpts_geocoder_eb38383a1333c93309ea6e50aab69175[&quot;provider&quot;];\n",
       "\n",
       "            var customGeocoder_geocoder_eb38383a1333c93309ea6e50aab69175 = L.Control.Geocoder[ geocoderName_geocoder_eb38383a1333c93309ea6e50aab69175 ](\n",
       "                geocoderOpts_geocoder_eb38383a1333c93309ea6e50aab69175[&#x27;providerOptions&#x27;]\n",
       "            );\n",
       "            geocoderOpts_geocoder_eb38383a1333c93309ea6e50aab69175[&quot;geocoder&quot;] = customGeocoder_geocoder_eb38383a1333c93309ea6e50aab69175;\n",
       "\n",
       "            L.Control.geocoder(\n",
       "                geocoderOpts_geocoder_eb38383a1333c93309ea6e50aab69175\n",
       "            ).on(&#x27;markgeocode&#x27;, function(e) {\n",
       "                var zoom = geocoderOpts_geocoder_eb38383a1333c93309ea6e50aab69175[&#x27;zoom&#x27;] || map_ba69e634f1be39a9392f959a437052cc.getZoom();\n",
       "                map_ba69e634f1be39a9392f959a437052cc.setView(e.geocode.center, zoom);\n",
       "            }).addTo(map_ba69e634f1be39a9392f959a437052cc);\n",
       "\n",
       "        \n",
       "    \n",
       "            map_ba69e634f1be39a9392f959a437052cc.fitBounds(\n",
       "                [[36.8795, -118.202], [36.8795, -118.202]],\n",
       "                {&quot;maxZoom&quot;: 12}\n",
       "            );\n",
       "        \n",
       "    \n",
       "            var tile_layer_419e0f7243ebb927d09ae2ea695f1731 = L.tileLayer(\n",
       "                &quot;https://earthengine.googleapis.com/v1/projects/ee-icwd-2023/maps/a24fdfe46d7df2502f2d3063ccfa71d5-db978d6d8f610a01bdf45d01af9cb1de/tiles/{z}/{x}/{y}&quot;,\n",
       "                {&quot;attribution&quot;: &quot;Google Earth Engine&quot;, &quot;detectRetina&quot;: false, &quot;maxNativeZoom&quot;: 24, &quot;maxZoom&quot;: 24, &quot;minZoom&quot;: 0, &quot;noWrap&quot;: false, &quot;opacity&quot;: 1.0, &quot;subdomains&quot;: &quot;abc&quot;, &quot;tms&quot;: false}\n",
       "            );\n",
       "        \n",
       "    \n",
       "            tile_layer_419e0f7243ebb927d09ae2ea695f1731.addTo(map_ba69e634f1be39a9392f959a437052cc);\n",
       "        \n",
       "    \n",
       "            var tile_layer_8192adc39bb801ac7a5061552b5ec12a = L.tileLayer(\n",
       "                &quot;https://earthengine.googleapis.com/v1/projects/ee-icwd-2023/maps/16b14e1742694bd23b399cdd2fc533f9-801574ecee17ebaf0ccf344632c531e4/tiles/{z}/{x}/{y}&quot;,\n",
       "                {&quot;attribution&quot;: &quot;Google Earth Engine&quot;, &quot;detectRetina&quot;: false, &quot;maxNativeZoom&quot;: 24, &quot;maxZoom&quot;: 24, &quot;minZoom&quot;: 0, &quot;noWrap&quot;: false, &quot;opacity&quot;: 1.0, &quot;subdomains&quot;: &quot;abc&quot;, &quot;tms&quot;: false}\n",
       "            );\n",
       "        \n",
       "    \n",
       "            tile_layer_8192adc39bb801ac7a5061552b5ec12a.addTo(map_ba69e634f1be39a9392f959a437052cc);\n",
       "        \n",
       "    \n",
       "            var marker_5a2f609830982247a9dff853e0f148a8 = L.marker(\n",
       "                [36.86044066484152, -118.19616961810209],\n",
       "                {}\n",
       "            ).addTo(map_ba69e634f1be39a9392f959a437052cc);\n",
       "        \n",
       "    \n",
       "        var popup_5ffaabd0bb056d054322424da97ce569 = L.popup({&quot;maxWidth&quot;: &quot;100%&quot;});\n",
       "\n",
       "        \n",
       "            \n",
       "                var html_17d9ff3dbb38afe9c7b7874b4d972263 = $(`&lt;div id=&quot;html_17d9ff3dbb38afe9c7b7874b4d972263&quot; style=&quot;width: 100.0%; height: 100.0%;&quot;&gt;Thibaut: 418.89 Acres&lt;/div&gt;`)[0];\n",
       "                popup_5ffaabd0bb056d054322424da97ce569.setContent(html_17d9ff3dbb38afe9c7b7874b4d972263);\n",
       "            \n",
       "        \n",
       "\n",
       "        marker_5a2f609830982247a9dff853e0f148a8.bindPopup(popup_5ffaabd0bb056d054322424da97ce569)\n",
       "        ;\n",
       "\n",
       "        \n",
       "    \n",
       "    \n",
       "            var marker_35aac68055a3220fc6abe551a1c378ae = L.marker(\n",
       "                [36.91846697002981, -118.20809887168937],\n",
       "                {}\n",
       "            ).addTo(map_ba69e634f1be39a9392f959a437052cc);\n",
       "        \n",
       "    \n",
       "        var popup_5267b663068d729b5cf93b491c8167e7 = L.popup({&quot;maxWidth&quot;: &quot;100%&quot;});\n",
       "\n",
       "        \n",
       "            \n",
       "                var html_206f5d32d313865f9b35463ca2359ff9 = $(`&lt;div id=&quot;html_206f5d32d313865f9b35463ca2359ff9&quot; style=&quot;width: 100.0%; height: 100.0%;&quot;&gt;Drew: 87.57 Acres&lt;/div&gt;`)[0];\n",
       "                popup_5267b663068d729b5cf93b491c8167e7.setContent(html_206f5d32d313865f9b35463ca2359ff9);\n",
       "            \n",
       "        \n",
       "\n",
       "        marker_35aac68055a3220fc6abe551a1c378ae.bindPopup(popup_5267b663068d729b5cf93b491c8167e7)\n",
       "        ;\n",
       "\n",
       "        \n",
       "    \n",
       "    \n",
       "            var marker_2877c3e808dc427a58d8adf6d6052615 = L.marker(\n",
       "                [36.89979855072214, -118.19586436691745],\n",
       "                {}\n",
       "            ).addTo(map_ba69e634f1be39a9392f959a437052cc);\n",
       "        \n",
       "    \n",
       "        var popup_95031d608846b50c1929edb3c88ffcac = L.popup({&quot;maxWidth&quot;: &quot;100%&quot;});\n",
       "\n",
       "        \n",
       "            \n",
       "                var html_52c934e8084c0305ff628a2044812b9f = $(`&lt;div id=&quot;html_52c934e8084c0305ff628a2044812b9f&quot; style=&quot;width: 100.0%; height: 100.0%;&quot;&gt;Waggonner: 298.48 Acres&lt;/div&gt;`)[0];\n",
       "                popup_95031d608846b50c1929edb3c88ffcac.setContent(html_52c934e8084c0305ff628a2044812b9f);\n",
       "            \n",
       "        \n",
       "\n",
       "        marker_2877c3e808dc427a58d8adf6d6052615.bindPopup(popup_95031d608846b50c1929edb3c88ffcac)\n",
       "        ;\n",
       "\n",
       "        \n",
       "    \n",
       "    \n",
       "            var marker_0c0c33a6ab015dab1550227aafc67aa9 = L.marker(\n",
       "                [36.89781800267362, -118.21569918171215],\n",
       "                {}\n",
       "            ).addTo(map_ba69e634f1be39a9392f959a437052cc);\n",
       "        \n",
       "    \n",
       "        var popup_6fad14986330bf0453c48686f5346a85 = L.popup({&quot;maxWidth&quot;: &quot;100%&quot;});\n",
       "\n",
       "        \n",
       "            \n",
       "                var html_36e81293e42b2e02976139d42a87312e = $(`&lt;div id=&quot;html_36e81293e42b2e02976139d42a87312e&quot; style=&quot;width: 100.0%; height: 100.0%;&quot;&gt;West Winterton: 95.68 Acres&lt;/div&gt;`)[0];\n",
       "                popup_6fad14986330bf0453c48686f5346a85.setContent(html_36e81293e42b2e02976139d42a87312e);\n",
       "            \n",
       "        \n",
       "\n",
       "        marker_0c0c33a6ab015dab1550227aafc67aa9.bindPopup(popup_6fad14986330bf0453c48686f5346a85)\n",
       "        ;\n",
       "\n",
       "        \n",
       "    \n",
       "    \n",
       "            var marker_588a9fa8d8d8795bd0872cb83122aa12 = L.marker(\n",
       "                [36.90110531089543, -118.20920202369373],\n",
       "                {}\n",
       "            ).addTo(map_ba69e634f1be39a9392f959a437052cc);\n",
       "        \n",
       "    \n",
       "        var popup_f052b16c4988293cbe1ccd35866d8b97 = L.popup({&quot;maxWidth&quot;: &quot;100%&quot;});\n",
       "\n",
       "        \n",
       "            \n",
       "                var html_e736b3dfe8db30525b55203512618b4f = $(`&lt;div id=&quot;html_e736b3dfe8db30525b55203512618b4f&quot; style=&quot;width: 100.0%; height: 100.0%;&quot;&gt;East Winterton: 59.08 Acres&lt;/div&gt;`)[0];\n",
       "                popup_f052b16c4988293cbe1ccd35866d8b97.setContent(html_e736b3dfe8db30525b55203512618b4f);\n",
       "            \n",
       "        \n",
       "\n",
       "        marker_588a9fa8d8d8795bd0872cb83122aa12.bindPopup(popup_f052b16c4988293cbe1ccd35866d8b97)\n",
       "        ;\n",
       "\n",
       "        \n",
       "    \n",
       "    \n",
       "            var marker_52d4468270f53e03ba389b00558e74c8 = L.marker(\n",
       "                [36.878012701624925, -118.20090485228432],\n",
       "                {}\n",
       "            ).addTo(map_ba69e634f1be39a9392f959a437052cc);\n",
       "        \n",
       "    \n",
       "        var popup_c619492d2d3550ef4ab6254eeb590f10 = L.popup({&quot;maxWidth&quot;: &quot;100%&quot;});\n",
       "\n",
       "        \n",
       "            \n",
       "                var html_1b2673f7204ed97449bb794715ea82eb = $(`&lt;div id=&quot;html_1b2673f7204ed97449bb794715ea82eb&quot; style=&quot;width: 100.0%; height: 100.0%;&quot;&gt;South Winterton: 108.48 Acres&lt;/div&gt;`)[0];\n",
       "                popup_c619492d2d3550ef4ab6254eeb590f10.setContent(html_1b2673f7204ed97449bb794715ea82eb);\n",
       "            \n",
       "        \n",
       "\n",
       "        marker_52d4468270f53e03ba389b00558e74c8.bindPopup(popup_c619492d2d3550ef4ab6254eeb590f10)\n",
       "        ;\n",
       "\n",
       "        \n",
       "    \n",
       "    \n",
       "            var marker_113fdf5c8996a21dfbf6f2fce783f9bf = L.marker(\n",
       "                [36.87867846980565, -118.21664203614019],\n",
       "                {}\n",
       "            ).addTo(map_ba69e634f1be39a9392f959a437052cc);\n",
       "        \n",
       "    \n",
       "        var popup_f750b0ec684774ca4347b030e1be66e6 = L.popup({&quot;maxWidth&quot;: &quot;100%&quot;});\n",
       "\n",
       "        \n",
       "            \n",
       "                var html_39776c3b311a2053faad97d4d996812b = $(`&lt;div id=&quot;html_39776c3b311a2053faad97d4d996812b&quot; style=&quot;width: 100.0%; height: 100.0%;&quot;&gt;Thibaut Ponds: 57.11 Acres&lt;/div&gt;`)[0];\n",
       "                popup_f750b0ec684774ca4347b030e1be66e6.setContent(html_39776c3b311a2053faad97d4d996812b);\n",
       "            \n",
       "        \n",
       "\n",
       "        marker_113fdf5c8996a21dfbf6f2fce783f9bf.bindPopup(popup_f750b0ec684774ca4347b030e1be66e6)\n",
       "        ;\n",
       "\n",
       "        \n",
       "    \n",
       "    \n",
       "            var layer_control_3225cc0f3e75cd063dccfe803a68c55e_layers = {\n",
       "                base_layers : {\n",
       "                    &quot;openstreetmap&quot; : tile_layer_286dcb12f62e4eba38c4a73fb8598216,\n",
       "                },\n",
       "                overlays :  {\n",
       "                    &quot;Flooded Pixels&quot; : tile_layer_419e0f7243ebb927d09ae2ea695f1731,\n",
       "                    &quot;Unit Boundaries&quot; : tile_layer_8192adc39bb801ac7a5061552b5ec12a,\n",
       "                },\n",
       "            };\n",
       "            let layer_control_3225cc0f3e75cd063dccfe803a68c55e = L.control.layers(\n",
       "                layer_control_3225cc0f3e75cd063dccfe803a68c55e_layers.base_layers,\n",
       "                layer_control_3225cc0f3e75cd063dccfe803a68c55e_layers.overlays,\n",
       "                {&quot;autoZIndex&quot;: true, &quot;collapsed&quot;: true, &quot;position&quot;: &quot;topright&quot;}\n",
       "            ).addTo(map_ba69e634f1be39a9392f959a437052cc);\n",
       "\n",
       "        \n",
       "    \n",
       "            tile_layer_286dcb12f62e4eba38c4a73fb8598216.addTo(map_ba69e634f1be39a9392f959a437052cc);\n",
       "        \n",
       "    \n",
       "            tile_layer_419e0f7243ebb927d09ae2ea695f1731.addTo(map_ba69e634f1be39a9392f959a437052cc);\n",
       "        \n",
       "    \n",
       "            tile_layer_8192adc39bb801ac7a5061552b5ec12a.addTo(map_ba69e634f1be39a9392f959a437052cc);\n",
       "        \n",
       "&lt;/script&gt;\n",
       "&lt;/html&gt;\" width=\"100%\" height=\"600\"style=\"border:none !important;\" \"allowfullscreen\" \"webkitallowfullscreen\" \"mozallowfullscreen\"></iframe>"
      ],
      "text/plain": [
       "<geemap.foliumap.Map at 0x18550053450>"
      ]
     },
     "execution_count": 150,
     "metadata": {},
     "output_type": "execute_result"
    }
   ],
   "source": [
    "# Clip the binary image to the unit boundaries\n",
    "clipped_binary_image = binary_image.clip(units)\n",
    "\n",
    "# Create a folium map\n",
    "Map = geemap.Map(center=[36.8795, -118.202], zoom=12)\n",
    "\n",
    "# Add the clipped binary image to the map\n",
    "Map.addLayer(clipped_binary_image, {'palette': ['blue'], 'opacity': 0.5}, 'Flooded Pixels')\n",
    "\n",
    "# Style for unit boundaries\n",
    "units_style = {'color': 'red', 'fillColor': '00000000'}  # '00000000' is transparent in RGBA\n",
    "\n",
    "# Add the unit boundaries to the map\n",
    "Map.addLayer(units_with_calculations.style(**units_style), {}, 'Unit Boundaries')\n",
    "\n",
    "# Add labels to the map\n",
    "labels = units_with_calculations.aggregate_array('label').getInfo()\n",
    "\n",
    "# Extract centroids for each feature\n",
    "def get_centroid(feature):\n",
    "    return feature.geometry().centroid().coordinates()\n",
    "\n",
    "centroids = units_with_calculations.map(lambda f: f.set('centroid', get_centroid(f)))\n",
    "\n",
    "# Get the centroids information\n",
    "centroid_info = centroids.aggregate_array('centroid').getInfo()\n",
    "\n",
    "for label, centroid in zip(labels, centroid_info):\n",
    "    folium.Marker(\n",
    "        location=[centroid[1], centroid[0]],\n",
    "        icon=None,\n",
    "        popup=label\n",
    "    ).add_to(Map)\n",
    "\n",
    "# Display the map\n",
    "Map.add_child(folium.LayerControl())\n",
    "# Save the map to the subdirectory with a unique name\n",
    "Map.save(map_filename)\n",
    "Map"
   ]
  },
  {
   "cell_type": "markdown",
   "metadata": {},
   "source": [
    "Write csv Table"
   ]
  },
  {
   "cell_type": "code",
   "execution_count": 151,
   "metadata": {},
   "outputs": [
    {
     "data": {
      "text/html": [
       "\n",
       "            <style>\n",
       "                .geemap-dark {\n",
       "                    --jp-widgets-color: white;\n",
       "                    --jp-widgets-label-color: white;\n",
       "                    --jp-ui-font-color1: white;\n",
       "                    --jp-layout-color2: #454545;\n",
       "                    background-color: #383838;\n",
       "                }\n",
       "\n",
       "                .geemap-dark .jupyter-button {\n",
       "                    --jp-layout-color3: #383838;\n",
       "                }\n",
       "\n",
       "                .geemap-colab {\n",
       "                    background-color: var(--colab-primary-surface-color, white);\n",
       "                }\n",
       "\n",
       "                .geemap-colab .jupyter-button {\n",
       "                    --jp-layout-color3: var(--colab-primary-surface-color, white);\n",
       "                }\n",
       "            </style>\n",
       "            "
      ],
      "text/plain": [
       "<IPython.core.display.HTML object>"
      ]
     },
     "metadata": {},
     "output_type": "display_data"
    }
   ],
   "source": [
    "\n",
    "# Define the subdirectory for CSV output\n",
    "csv_subdirectory = \"flood_reports/csv_output\"\n",
    "os.makedirs(csv_subdirectory, exist_ok=True)\n",
    "\n",
    "# Save the DataFrame to a CSV file\n",
    "units_df_properties_reduced = pd.DataFrame(units_with_calculations.getInfo()['features'])\n",
    "units_df_properties_reduced = pd.json_normalize(units_df_properties_reduced['properties'])\n",
    "units_df_properties_reduced = units_df_properties_reduced[['Flood_Unit', 'total_pixels', 'flooded_pixels', 'unit_acres', 'acres_flooded']]\n",
    "\n",
    "# Define the CSV filename with the new directory\n",
    "csv_filename = os.path.join(csv_subdirectory, f'flood_report_data_{image_date_str}_{threshold}.csv')\n",
    "\n",
    "# csv_filename = f'flood_report_data_{image_date_str}.csv'\n",
    "units_df_properties_reduced.to_csv(csv_filename, index=False)\n"
   ]
  },
  {
   "cell_type": "markdown",
   "metadata": {},
   "source": [
    "Create HTML Table"
   ]
  },
  {
   "cell_type": "code",
   "execution_count": 152,
   "metadata": {},
   "outputs": [
    {
     "data": {
      "text/html": [
       "\n",
       "            <style>\n",
       "                .geemap-dark {\n",
       "                    --jp-widgets-color: white;\n",
       "                    --jp-widgets-label-color: white;\n",
       "                    --jp-ui-font-color1: white;\n",
       "                    --jp-layout-color2: #454545;\n",
       "                    background-color: #383838;\n",
       "                }\n",
       "\n",
       "                .geemap-dark .jupyter-button {\n",
       "                    --jp-layout-color3: #383838;\n",
       "                }\n",
       "\n",
       "                .geemap-colab {\n",
       "                    background-color: var(--colab-primary-surface-color, white);\n",
       "                }\n",
       "\n",
       "                .geemap-colab .jupyter-button {\n",
       "                    --jp-layout-color3: var(--colab-primary-surface-color, white);\n",
       "                }\n",
       "            </style>\n",
       "            "
      ],
      "text/plain": [
       "<IPython.core.display.HTML object>"
      ]
     },
     "metadata": {},
     "output_type": "display_data"
    }
   ],
   "source": [
    "\n",
    "# Rename columns for display\n",
    "units_df_properties_reduced = units_df_properties_reduced[['Flood_Unit', 'acres_flooded']]\n",
    "units_df_properties_reduced.columns = ['BWMA Unit', 'Acres']\n",
    "\n",
    "# Round acres to whole numbers\n",
    "units_df_properties_reduced['Acres'] = units_df_properties_reduced['Acres'].round(0).astype(int)\n",
    "\n",
    "# Calculate totals\n",
    "total_acres = units_df_properties_reduced['Acres'].sum()\n",
    "totals_row = pd.DataFrame([{'BWMA Unit': 'Total', 'Acres': total_acres}])\n",
    "\n",
    "# Append the totals row to the DataFrame\n",
    "units_df_properties_reduced = pd.concat([units_df_properties_reduced, totals_row], ignore_index=True)\n",
    "\n",
    "\n",
    "# Style the DataFrame and convert to HTML\n",
    "html_table_simple = (\n",
    "    units_df_properties_reduced.style\n",
    "    .set_table_styles([\n",
    "        {'selector': 'th', 'props': [('text-align', 'center'), ('font-size', '14px')]},\n",
    "        {'selector': 'td:nth-child(1)', 'props': [('text-align', 'left'), ('font-size', '12px')]},\n",
    "        {'selector': 'td:nth-child(2)', 'props': [('text-align', 'right'), ('font-size', '12px')]},\n",
    "    ])\n",
    "    .set_properties(subset=pd.IndexSlice[units_df_properties_reduced.index[-1], :], **{'font-weight': 'bold', 'font-size': '14px'})\n",
    "    .hide(axis='index')\n",
    "    .to_html()\n",
    ")\n",
    "\n",
    "\n",
    "# Manually hide the index in the HTML string\n",
    "html_table_simple = html_table_simple.replace('<th></th>', '')\n"
   ]
  },
  {
   "cell_type": "markdown",
   "metadata": {},
   "source": [
    "Create HTML Report"
   ]
  },
  {
   "cell_type": "code",
   "execution_count": 153,
   "metadata": {},
   "outputs": [
    {
     "data": {
      "text/html": [
       "\n",
       "            <style>\n",
       "                .geemap-dark {\n",
       "                    --jp-widgets-color: white;\n",
       "                    --jp-widgets-label-color: white;\n",
       "                    --jp-ui-font-color1: white;\n",
       "                    --jp-layout-color2: #454545;\n",
       "                    background-color: #383838;\n",
       "                }\n",
       "\n",
       "                .geemap-dark .jupyter-button {\n",
       "                    --jp-layout-color3: #383838;\n",
       "                }\n",
       "\n",
       "                .geemap-colab {\n",
       "                    background-color: var(--colab-primary-surface-color, white);\n",
       "                }\n",
       "\n",
       "                .geemap-colab .jupyter-button {\n",
       "                    --jp-layout-color3: var(--colab-primary-surface-color, white);\n",
       "                }\n",
       "            </style>\n",
       "            "
      ],
      "text/plain": [
       "<IPython.core.display.HTML object>"
      ]
     },
     "metadata": {},
     "output_type": "display_data"
    },
    {
     "name": "stdout",
     "output_type": "stream",
     "text": [
      "Report saved to flood_reports/html_reports_maps\\bwma_flood_report_2023-11-09_0.21.html\n",
      "Map saved to flood_reports/html_reports_maps\\flooded_area_map_2023-11-09_0.21.html\n"
     ]
    }
   ],
   "source": [
    "\n",
    "\n",
    "# HTML report\n",
    "html_report = f\"\"\"\n",
    "<html>\n",
    "<head>\n",
    "    <title>BWMA Flooded Extent: {image_date_str}</title>\n",
    "    <style>\n",
    "        body {{\n",
    "            font-family: Arial, sans-serif;\n",
    "        }}\n",
    "        .container {{\n",
    "            display: flex;\n",
    "            justify-content: space-between;\n",
    "        }}\n",
    "        .left {{\n",
    "            width: 25%;\n",
    "        }}\n",
    "        .right {{\n",
    "            width: 75%;\n",
    "            text-align: center;\n",
    "        }}\n",
    "        h1, h2 {{\n",
    "            text-align: center;\n",
    "        }}\n",
    "        .notes {{\n",
    "            margin-top: 20px;\n",
    "            padding: 10px;\n",
    "            border-top: 1px solid #000;\n",
    "        }}\n",
    "        /*----CHANGE---- Increase font size and add line above totals row */\n",
    "        table {{\n",
    "            width: 90%;\n",
    "            font-size: 50px;\n",
    "            border-collapse: collapse;\n",
    "        }}\n",
    "        th, td {{\n",
    "            padding: 20px;\n",
    "            text-align: left;\n",
    "            border-bottom: 1px solid #ddd;\n",
    "        }}\n",
    "        th {{\n",
    "            text-align: right;//from center\n",
    "            font-size: 30px;\n",
    "        }}\n",
    "        td:nth-child(2) {{\n",
    "            text-align: right;\n",
    "        }}\n",
    "        tr:last-child {{\n",
    "            font-weight: bold;\n",
    "            font-size: 80px;\n",
    "        }}\n",
    "        tr:last-child td {{\n",
    "            border-top: 3px solid #000;\n",
    "        }}\n",
    "    </style>\n",
    "</head>\n",
    "<body>\n",
    "    <h1>BWMA Flooded Acres and Extent: {image_date_str}</h1>\n",
    "    <div class=\"container\">\n",
    "        <div class=\"left\">\n",
    "            <h2>Flooded Acres</h2>\n",
    "            {html_table_simple}\n",
    "        </div>\n",
    "        <div class=\"right\">\n",
    "            <h2>Spatial Extent</h2>\n",
    "            <p>Imagery Date: {image_date_str}</p>\n",
    "            <iframe src=\"flooded_area_map_{image_date_str}_{threshold}.html\" width=\"90%\" height=\"500\"></iframe>\n",
    "        </div>\n",
    "    </div>\n",
    "    <div class=\"notes\">\n",
    "        <h3>Technical Notes</h3>\n",
    "        <p>Flooded acres were calculated from Sentinel-2 Surface Reflectance imagery using the Earth Engine Python API in a Jupyter notebook.  Sentinel-2 (S2) is a wide-swath, high-resolution, multispectral imaging mission with a global 5-day revisit frequency.</p>\n",
    "        <p>The S2 Multispectral Instrument (MSI) samples 13 spectral bands: Visible and NIR at 10 meters, red edge and SWIR at 20 meters, and atmospheric bands at 60 meters spatial resolution. The Near Infrared (NIR) band was used to identify flooded areas by applying a threshold to isolate water.</p>\n",
    "        <p>The results are validated during routine field checks throughout the seasonal flooding cycle September through April.</p>\n",
    "    </div>\n",
    "</body>\n",
    "</html>\n",
    "\"\"\"\n",
    "\n",
    "# Save the report to an HTML file in the subdirectory\n",
    "with open(report_filename, \"w\") as file:\n",
    "    file.write(html_report)\n",
    "\n",
    "print(f\"Report saved to {report_filename}\")\n",
    "print(f\"Map saved to {map_filename}\")\n"
   ]
  }
 ],
 "metadata": {
  "kernelspec": {
   "display_name": "flood_app_env",
   "language": "python",
   "name": "python3"
  },
  "language_info": {
   "codemirror_mode": {
    "name": "ipython",
    "version": 3
   },
   "file_extension": ".py",
   "mimetype": "text/x-python",
   "name": "python",
   "nbconvert_exporter": "python",
   "pygments_lexer": "ipython3",
   "version": "3.11.9"
  }
 },
 "nbformat": 4,
 "nbformat_minor": 2
}
